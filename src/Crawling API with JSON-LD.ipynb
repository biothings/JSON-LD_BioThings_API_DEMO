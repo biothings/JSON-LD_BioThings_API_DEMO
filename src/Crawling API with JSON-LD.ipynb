{
 "cells": [
  {
   "cell_type": "markdown",
   "metadata": {},
   "source": [
    "## Task Description"
   ]
  },
  {
   "cell_type": "markdown",
   "metadata": {},
   "source": [
    "**Input**: Variant HGVS ID (e.g. chr6:g.26093141G>A)\n",
    "\n",
    "1. Retrieve Entrez Gene ID(s) **set1g** related to HGVS ID(s)\n",
    "2. Retrieve Wikipathways ID(s) **set1p** in which Entrez Gene ID(s) set1g are involved\n",
    "3. Retrieve Other Entrez Gene ID(s) **set2g** which are included in Wikipathways ID(s) set1p\n",
    "4. Retrieve Uniprot ID(s) **set2u** which correspond to Entrez Gene ID(s) set2g\n",
    "5. Retrieve Drug Inchi Key(s) **set1d** which target Uniprot ID(s) set2u\n",
    "\n",
    "**Output**: Available drugs targetting genes/pathways related to the input HGVS ID"
   ]
  },
  {
   "cell_type": "markdown",
   "metadata": {},
   "source": [
    "### Input"
   ]
  },
  {
   "cell_type": "code",
   "execution_count": 1,
   "metadata": {
    "collapsed": true
   },
   "outputs": [],
   "source": [
    "# input a list of variants\n",
    "variant_list = ['chr6:g.26093141G>A', 'chr12:g.111351981C>T']"
   ]
  },
  {
   "cell_type": "markdown",
   "metadata": {},
   "source": [
    "### Import biothings library"
   ]
  },
  {
   "cell_type": "code",
   "execution_count": 2,
   "metadata": {
    "collapsed": false
   },
   "outputs": [],
   "source": [
    "# IdListHandler class convert a list of IDs from a given input type to another list of IDs from a given output type\n",
    "from biothings import IdListHandler\n",
    "ih = IdListHandler()\n",
    "# dict2list help convert the dictionary output to list\n",
    "from biothings import dict2list"
   ]
  },
  {
   "cell_type": "markdown",
   "metadata": {},
   "source": [
    "### Step 1: HGVS ID >- Entrez Gene ID"
   ]
  },
  {
   "cell_type": "code",
   "execution_count": 3,
   "metadata": {
    "collapsed": false
   },
   "outputs": [
    {
     "name": "stdout",
     "output_type": "stream",
     "text": [
      "{'chr6:g.26093141G>A': [{'source': 'myvariant.info', 'entrez_gene_id': '3077'}], 'chr12:g.111351981C>T': [{'source': 'myvariant.info', 'entrez_gene_id': '4633'}]}\n"
     ]
    }
   ],
   "source": [
    "gene_result = ih.list_handler(input_id_list=variant_list, \n",
    "                              _input_type='http://identifiers.org/hgvs/', \n",
    "                              _output_type='http://identifiers.org/ncbigene/', \n",
    "                              uri=True)\n",
    "print(gene_result)\n",
    "set1g = dict2list(gene_result)"
   ]
  },
  {
   "cell_type": "markdown",
   "metadata": {
    "collapsed": true
   },
   "source": [
    "### Step 2: Entrez Gene ID >- Wikipathways ID"
   ]
  },
  {
   "cell_type": "code",
   "execution_count": 4,
   "metadata": {
    "collapsed": false
   },
   "outputs": [
    {
     "name": "stdout",
     "output_type": "stream",
     "text": [
      "{'4633': [{'wikipathway_id': ['WP289', 'WP383', 'WP3888', 'WP2406'], 'source': 'mygene.info'}], '3077': [{'wikipathway_id': 'WP3924', 'source': 'mygene.info'}]}\n"
     ]
    }
   ],
   "source": [
    "wikipathway_result = ih.list_handler(input_id_list=set1g, \n",
    "                                     _input_type='http://identifiers.org/ncbigene/', \n",
    "                                     _output_type='http://identifiers.org/wikipathways/', \n",
    "                                     uri=True)\n",
    "print(wikipathway_result)\n",
    "set1p = dict2list(wikipathway_result)"
   ]
  },
  {
   "cell_type": "markdown",
   "metadata": {},
   "source": [
    "### Step 3: Wikipathways ID >- Entrez Gene ID"
   ]
  },
  {
   "cell_type": "code",
   "execution_count": 6,
   "metadata": {
    "collapsed": false
   },
   "outputs": [],
   "source": [
    "gene_result2 = ih.list_handler(input_id_list=set1p, \n",
    "                               _input_type='http://identifiers.org/wikipathways/', \n",
    "                               _output_type='http://identifiers.org/ncbigene/', \n",
    "                               uri=True)\n",
    "set2g = dict2list(gene_result2)\n",
    "print(len(set2g))"
   ]
  },
  {
   "cell_type": "markdown",
   "metadata": {},
   "source": [
    "### Step 4: Entrez Gene ID >- Uniprot ID"
   ]
  },
  {
   "cell_type": "code",
   "execution_count": 8,
   "metadata": {
    "collapsed": false
   },
   "outputs": [],
   "source": [
    "uniprot_result = ih.list_handler(input_id_list=set2g, \n",
    "                                 _input_type='http://identifiers.org/ncbigene/', \n",
    "                                 _output_type='http://identifiers.org/uniprot/', \n",
    "                                 uri=True)\n",
    "set1u = dict2list(uniprot_result)\n",
    "print(len(set1u))"
   ]
  },
  {
   "cell_type": "markdown",
   "metadata": {},
   "source": [
    "### Step 5: Uniprot ID >- Inchi Key"
   ]
  },
  {
   "cell_type": "code",
   "execution_count": 9,
   "metadata": {
    "collapsed": false
   },
   "outputs": [
    {
     "name": "stdout",
     "output_type": "stream",
     "text": [
      "{'Q08116': [{'source': 'mychem.info', 'inchikey': None}], 'P61073': [{'source': 'mychem.info', 'inchikey': ['DB05501', 'YIQPUIGJQJDJOS-UHFFFAOYSA-N']}], 'P62258': [{'source': 'mychem.info', 'inchikey': 'KXTYBXCEQOANSX-MQYZIMMHSA-N'}], 'P84996': [{'source': 'mychem.info', 'inchikey': None}], 'P60709': [{'source': 'mychem.info', 'inchikey': None}], 'P34947': [{'source': 'mychem.info', 'inchikey': None}], 'P42224': [{'source': 'mychem.info', 'inchikey': None}], 'P28289': [{'source': 'mychem.info', 'inchikey': None}], 'P21817': [{'source': 'mychem.info', 'inchikey': ['OZOMQRBLCMDCEG-VIZOYTHASA-N', 'RYYVLZVUVIJVGH-UHFFFAOYSA-N', 'FIAFUQMPZJWCLV-UHFFFAOYSA-N']}], 'Q13547': [{'source': 'mychem.info', 'inchikey': ['OHRURASPPZQGQM-QDBHDZETSA-N', 'DB05223', 'WAEXFXRVDQXREF-UHFFFAOYSA-N', 'FPOHNWQLNRZRFC-ZHACJKMWSA-N', 'DB05921', 'DB05651']}], 'Q06546': [{'source': 'mychem.info', 'inchikey': None}], 'P35968': [{'source': 'mychem.info', 'inchikey': ['SQQAPOSROFWHIB-UHFFFAOYSA-N', 'XXJWYDDUDKYVKI-UHFFFAOYSA-N', 'DB05578', 'ZATGFXTWDKIEKC-UHFFFAOYSA-N', 'FLXGQDHYCWXTAI-UHFFFAOYSA-N', 'CLEGTVIMOPPIBR-UHFFFAOYSA-N', 'FEGRQUWSKADGSP-UHFFFAOYSA-N', 'DB04727', 'HXUZQEYFKAZBPX-UHFFFAOYSA-N', 'KRGKAARWVPUWSY-UHFFFAOYSA-N']}], 'P78504': [{'source': 'mychem.info', 'inchikey': None}], 'P06756': [{'source': 'mychem.info', 'inchikey': 'DB00098'}], 'P68133': [{'source': 'mychem.info', 'inchikey': ['LOYDTENNTZZQJM-DIUYYEMASA-N', 'GATPHXXEPJBDKA-DCQWOVGRSA-N', 'MINVLQAHLUCDIO-GLLDUQGXSA-N', 'JMXMEKJLQWJRHY-GDEZZODWSA-N', 'VMTDLKOWOZYTPX-CQJHWTDNSA-N', 'DDVBPZROPPMBLW-ZJBINBEQSA-N', 'DIOFXPZEAVIPDB-OYYPEJFMSA-N', 'KGFLZYXDJDOIEE-UHFFFAOYSA-N', 'BRMWTNUJHUMWMS-LURJTMIESA-N', 'XYKNXOJYKRVXBX-LBCSWZFUSA-N']}], 'Q9UBS3': [{'source': 'mychem.info', 'inchikey': None}], 'Q01974': [{'source': 'mychem.info', 'inchikey': None}], 'P18031': [{'source': 'mychem.info', 'inchikey': ['SXKBTDJJEQQEGE-UHFFFAOYSA-N', 'GBLDYRVJENYQNH-GHGCAVAYSA-N', 'PPSSYXOFPICMQD-CYBMUJFWSA-N', 'LDCZCUKQWRZSDT-UHFFFAOYSA-N', 'IGOULVZYQKJJKC-UHFFFAOYSA-N', 'SRHSAABKYJDBDV-UHFFFAOYSA-N', 'OWWCIKSGGKYNHT-ZDUSSCGKSA-N', 'RXDVFLTWXCTCEX-UHFFFAOYSA-N', 'JGZSWLHKOMFYHS-UHFFFAOYSA-N', 'DQSRCEFDWMQCCV-GQCTYLIASA-N']}], 'P62873': [{'source': 'mychem.info', 'inchikey': None}], 'Q9UNN5': [{'source': 'mychem.info', 'inchikey': None}], 'O60462': [{'source': 'mychem.info', 'inchikey': None}], 'Q04917': [{'source': 'mychem.info', 'inchikey': None}], 'Q15464': [{'source': 'mychem.info', 'inchikey': None}], 'P78417': [{'source': 'mychem.info', 'inchikey': 'RWSXRVCMGQZWBV-WDSKDSINSA-N'}], 'Q92730': [{'source': 'mychem.info', 'inchikey': None}], 'P24385': [{'source': 'mychem.info', 'inchikey': 'GOLCXWYRSKYTSP-UHFFFAOYSA-N'}], 'P08476': [{'source': 'mychem.info', 'inchikey': None}], 'Q13976': [{'source': 'mychem.info', 'inchikey': None}], 'P13861': [{'source': 'mychem.info', 'inchikey': 'DB05798'}], 'Q16539': [{'source': 'mychem.info', 'inchikey': ['NTMADESEDXKNFZ-UHFFFAOYSA-N', 'FOHZGCHKLPIBBX-UHFFFAOYSA-N', 'YJCHZVXSPFPKMX-UHFFFAOYSA-N', 'BOPSUAHGQHFKGG-UHFFFAOYSA-N', 'ROKOFZNQCIIJMI-UHFFFAOYSA-N', 'VEPKQEUBKLEPRA-UHFFFAOYSA-N', 'PMMLSQFPBFKLHH-UHFFFAOYSA-N', 'YAWZIQKDHQIHOS-UHFFFAOYSA-N', 'OGWSGDLIXOEZJG-UHFFFAOYSA-N', 'HIUFYIOMUILESI-UHFFFAOYSA-N']}], 'O60262': [{'source': 'mychem.info', 'inchikey': None}], 'P10632': [{'source': 'mychem.info', 'inchikey': ['QRXWMOHMRWLFEY-UHFFFAOYSA-N', 'IPCSVZSSVZVIGE-UHFFFAOYSA-N', 'GXPHKUHSUJUWKP-NTKDMRAZSA-N']}], 'Q9BY44': [{'source': 'mychem.info', 'inchikey': None}], 'Q9P2W3': [{'source': 'mychem.info', 'inchikey': None}], 'Q6ZN17': [{'source': 'mychem.info', 'inchikey': None}], 'P17661': [{'source': 'mychem.info', 'inchikey': None}], 'P06730': [{'source': 'mychem.info', 'inchikey': ['DB05165', 'DKVRNHPCAOHRSI-FCIPNVEPSA-O', 'QQOHNVHGNZYSBP-XPWFQUROSA-O', 'ZRRNXPDUICGIEB-UHFFFAOYSA-N', 'QQODJOAVWUWVHJ-FCIPNVEPSA-N']}], 'P42336': [{'source': 'mychem.info', 'inchikey': ['RYYVLZVUVIJVGH-UHFFFAOYSA-N', 'DB05241', 'QDLHCMPXEPAAMD-QAIWCSMKSA-N', 'DB05240']}], 'O00570': [{'source': 'mychem.info', 'inchikey': None}], 'P62491': [{'source': 'mychem.info', 'inchikey': ['QGWNDRXFNXRZMB-BZKDHIKHSA-N', 'XOFLBQFBSOEHOG-BZKDHIKHSA-N']}], 'O75369': [{'source': 'mychem.info', 'inchikey': None}], 'P39877': [{'source': 'mychem.info', 'inchikey': None}], 'P01308': [{'source': 'mychem.info', 'inchikey': ['TUNFSRHWOTWDNC-UHFFFAOYSA-N', 'RLSSMJSEOOYNOY-UHFFFAOYSA-N']}], 'P35052': [{'source': 'mychem.info', 'inchikey': None}], 'Q08209': [{'source': 'mychem.info', 'inchikey': 'TUNFSRHWOTWDNC-UHFFFAOYSA-N'}], 'P0DP23': [{'source': 'mychem.info', 'inchikey': None}], 'P78324': [{'source': 'mychem.info', 'inchikey': None}], 'Q0VG99': [{'source': 'mychem.info', 'inchikey': None}], 'Q00610': [{'source': 'mychem.info', 'inchikey': None}], 'P49023': [{'source': 'mychem.info', 'inchikey': None}], 'Q13153': [{'source': 'mychem.info', 'inchikey': None}], 'P24593': [{'source': 'mychem.info', 'inchikey': None}], 'Q13480': [{'source': 'mychem.info', 'inchikey': None}], 'P15336': [{'source': 'mychem.info', 'inchikey': None}], 'P63316': [{'source': 'mychem.info', 'inchikey': ['UIEATEWHFDRYRU-UHFFFAOYSA-N', 'WHXMKTBCFHIYNQ-SECBINFHSA-N', 'IDEHCMNLNCJQST-UHFFFAOYSA-N', 'IZLRMTJLQCLMKF-CYBMUJFWSA-N', 'RZTAMFZIAATZDJ-UHFFFAOYSA-N', 'ZEWQUBUPAILYHI-UHFFFAOYSA-N', 'OYPRJOBELJOOCE-UHFFFAOYSA-N', 'RBNPZEHAODHBPZ-UHFFFAOYSA-M']}], 'P45983': [{'source': 'mychem.info', 'inchikey': ['VEGKZYFYGCWXMN-UHFFFAOYSA-N', 'QHPKKGUGRGRSGA-UHFFFAOYSA-N', 'ACPOUJIDANTYHO-UHFFFAOYSA-N', 'VGYXXQRDIVRILX-UHFFFAOYSA-N', 'GKODDLYLEKSDJL-UHFFFAOYSA-N', 'AYKGPCNWPACUQV-UHFFFAOYSA-N']}], 'P45378': [{'source': 'mychem.info', 'inchikey': None}], 'Q04759': [{'source': 'mychem.info', 'inchikey': ['BZQFBWGGLXLEPQ-REOHCLBHSA-N', 'HKSZLNNOFSGOKW-UCBFMKAXSA-N', 'USRGIUJOYOXOQJ-STHAYSLISA-N']}], 'P13535': [{'source': 'mychem.info', 'inchikey': None}], 'P51911': [{'source': 'mychem.info', 'inchikey': None}], 'O15178': [{'source': 'mychem.info', 'inchikey': None}], 'O15530': [{'source': 'mychem.info', 'inchikey': ['KJDBLWKTHMHALD-QMMMGPOBSA-N', 'RZEKVGVHFLEQIL-UHFFFAOYSA-N', 'APYXQTXFRIDSGE-UHFFFAOYSA-N', 'UQHKJRCFSLMWIA-UHFFFAOYSA-N', 'PBCZSGKMGDDXIJ-XMCQDBRXSA-N', 'QSSGYSRUMIOURP-UHFFFAOYSA-N', 'NVINUNQBDNEMSY-UHFFFAOYSA-N', 'LBFDERUQORUFIN-QGZVFWFLSA-N', 'VWQVBIPGKIAUGA-QMMMGPOBSA-N', 'QMGUOJYZJKLOLH-UHFFFAOYSA-N']}], 'Q13557': [{'source': 'mychem.info', 'inchikey': ['AWMNWCNUTIFHRJ-JLPGSUDCSA-N', 'LOGJQOUIVKBFGH-YBEGLDIGSA-N']}], 'P48788': [{'source': 'mychem.info', 'inchikey': None}], 'Q16270': [{'source': 'mychem.info', 'inchikey': ['DB00071', 'DB00030']}], 'P05556': [{'source': 'mychem.info', 'inchikey': 'DB00098'}], 'P04179': [{'source': 'mychem.info', 'inchikey': ['NVSONFIVLCXXDH-UHFFFAOYSA-N', 'VIIAUOZUUGXERI-ZETCQYMHSA-N']}], 'Q92633': [{'source': 'mychem.info', 'inchikey': None}], 'Q92558': [{'source': 'mychem.info', 'inchikey': None}], 'O60503': [{'source': 'mychem.info', 'inchikey': None}], 'P04083': [{'source': 'mychem.info', 'inchikey': ['UREBDLICKHMUKA-CXSFZGCWSA-N', 'ILKJAFIWWBXGDU-MOGDOJJUSA-N', 'JYGXADMDTFJGBT-VWUMJDOOSA-N']}], 'Q9UQL6': [{'source': 'mychem.info', 'inchikey': 'FPOHNWQLNRZRFC-ZHACJKMWSA-N'}], 'P35222': [{'source': 'mychem.info', 'inchikey': 'XSQUKJJJFZCRTK-UHFFFAOYSA-N'}], 'Q03135': [{'source': 'mychem.info', 'inchikey': None}], 'Q05682': [{'source': 'mychem.info', 'inchikey': None}], 'P56945': [{'source': 'mychem.info', 'inchikey': None}], 'O00763': [{'source': 'mychem.info', 'inchikey': ['WPMGNXPRKGXGBO-AKNGRICVSA-N', 'GFFGJBXGBJISGV-UHFFFAOYSA-N', 'OOLBCHYXZDXLDS-SECBINFHSA-N', 'YBJHBAHKTGYVGT-ZKWXMUAHSA-N', 'GOCUAJYOYBLQRH-MRVPVSSYSA-N']}], 'P48431': [{'source': 'mychem.info', 'inchikey': None}], 'P50148': [{'source': 'mychem.info', 'inchikey': None}], 'Q6R327': [{'source': 'mychem.info', 'inchikey': None}], 'P81172': [{'source': 'mychem.info', 'inchikey': None}], 'P01178': [{'source': 'mychem.info', 'inchikey': 'DB00107'}], 'O76081': [{'source': 'mychem.info', 'inchikey': None}], 'O43665': [{'source': 'mychem.info', 'inchikey': None}], 'Q05397': [{'source': 'mychem.info', 'inchikey': ['YENZSPIOXMNEFF-UHFFFAOYSA-N', 'UYJNQQDJUOUFQJ-UHFFFAOYSA-N']}], 'Q9C010': [{'source': 'mychem.info', 'inchikey': None}], 'P27361': [{'source': 'mychem.info', 'inchikey': ['ZKDXRFMOHZVXSG-HNNXBMFYSA-N', 'MLKXDPUZXIRXEP-MFOYZWKCSA-N', 'GOLCXWYRSKYTSP-UHFFFAOYSA-N', 'WHSIXKUPQCKWBY-IOSLPCCCSA-N']}], 'P16220': [{'source': 'mychem.info', 'inchikey': ['UZHSEJADLWPNLE-GRGSLBFTSA-N', 'UDMBCSSLTHHNCD-KQYNXXCUSA-N']}], 'P63104': [{'source': 'mychem.info', 'inchikey': None}], 'P50281': [{'source': 'mychem.info', 'inchikey': 'OCSMOTCMPXTDND-OUAUKWLOSA-N'}], 'Q14289': [{'source': 'mychem.info', 'inchikey': ['TZBJGXHYKVUXJN-UHFFFAOYSA-N', 'CAUFYHKGKDJMQG-HZPDHXFCSA-N', 'VHOGYURTWQBHIL-UHFFFAOYSA-N']}], 'Q8IW41': [{'source': 'mychem.info', 'inchikey': None}], 'P35354': [{'source': 'mychem.info', 'inchikey': ['OZWKMVRBQXNZKK-UHFFFAOYSA-N', 'MNJVRJDLRVPLFE-UHFFFAOYSA-N', 'KYXDNECMRLFQMZ-UHFFFAOYSA-N', 'SGUKUZOVHSFKPH-YNNPMVKQSA-N', 'OYZKFVIVPRQRQQ-UHFFFAOYSA-N', 'FULAPETWGIGNMT-UHFFFAOYSA-N', 'OXROWJKCGCOJDO-JLHYYAGUSA-N', 'QEFAQIPZVLVERP-UHFFFAOYSA-N', 'LNPDTQAFDNKSHK-UHFFFAOYSA-N', 'MDKGKXOCJGEUJW-UHFFFAOYSA-N']}], 'Q06124': [{'source': 'mychem.info', 'inchikey': 'VICYBMUVWHJEFT-UHFFFAOYSA-N'}], 'P62753': [{'source': 'mychem.info', 'inchikey': None}], 'P49802': [{'source': 'mychem.info', 'inchikey': None}], 'Q01970': [{'source': 'mychem.info', 'inchikey': None}], 'Q30201': [{'source': 'mychem.info', 'inchikey': None}], 'P59768': [{'source': 'mychem.info', 'inchikey': 'BCQZXOMGPXTTIC-UHFFFAOYSA-N'}], 'P41743': [{'source': 'mychem.info', 'inchikey': 'QMGUOJYZJKLOLH-UHFFFAOYSA-N'}], 'P19174': [{'source': 'mychem.info', 'inchikey': None}], 'Q05513': [{'source': 'mychem.info', 'inchikey': None}], 'P01112': [{'source': 'mychem.info', 'inchikey': ['XXMIOPMDWAUFGU-UHFFFAOYSA-N', 'QGWNDRXFNXRZMB-BZKDHIKHSA-N', 'YSVJZZZGPPWEIC-UHFFFAOYSA-N', 'RHQDFWAXVIIEBN-UHFFFAOYSA-N', 'XKMLYUALXHKNFT-BZKDHIKHSA-N']}], 'P51828': [{'source': 'mychem.info', 'inchikey': None}], 'Q9BVC4': [{'source': 'mychem.info', 'inchikey': None}], 'P67936': [{'source': 'mychem.info', 'inchikey': None}], 'Q4VCS5': [{'source': 'mychem.info', 'inchikey': None}], 'O60896': [{'source': 'mychem.info', 'inchikey': 'DB01278'}], 'P0DP25': [{'source': 'mychem.info', 'inchikey': None}], 'P11532': [{'source': 'mychem.info', 'inchikey': None}], 'P31323': [{'source': 'mychem.info', 'inchikey': 'IVOMOUWHDPKRLL-ASCDQALMSA-N'}], 'P08670': [{'source': 'mychem.info', 'inchikey': None}], 'P06753': [{'source': 'mychem.info', 'inchikey': None}], 'Q14241': [{'source': 'mychem.info', 'inchikey': None}], 'O15492': [{'source': 'mychem.info', 'inchikey': None}], 'P18146': [{'source': 'mychem.info', 'inchikey': None}], 'O14775': [{'source': 'mychem.info', 'inchikey': None}], 'P17936': [{'source': 'mychem.info', 'inchikey': 'DB01277'}], 'P07951': [{'source': 'mychem.info', 'inchikey': None}], 'P16885': [{'source': 'mychem.info', 'inchikey': None}], 'O00499': [{'source': 'mychem.info', 'inchikey': None}], 'Q8IU80': [{'source': 'mychem.info', 'inchikey': None}], 'P16581': [{'source': 'mychem.info', 'inchikey': 'OGHNVEJMJSYVRP-UHFFFAOYSA-N'}], 'P15692': [{'source': 'mychem.info', 'inchikey': ['DB01270', 'DB06779', 'DB08885', 'RIWLPSIAFBLILR-WVNGMBSFSA-N', 'DYKFCLLONBREIL-KVUCHLLUSA-N', 'DB05890', 'OGHNVEJMJSYVRP-UHFFFAOYSA-N', 'LENZDBCJOHFCAS-UHFFFAOYSA-N', 'DB00112', 'BOVGTQGAOIONJV-BETUJISGNA-N']}], 'Q92783': [{'source': 'mychem.info', 'inchikey': None}], 'P63261': [{'source': 'mychem.info', 'inchikey': None}], 'Q07343': [{'source': 'mychem.info', 'inchikey': ['CFBUZOUXXHZCFB-LDTOLXSISA-N', 'XQCKNCFQOJFQFK-UHFFFAOYSA-N', 'HJORMJIFDVBMOB-LBPRGKRZSA-N', 'STTRYQAGHGJXJJ-LICLKQGHSA-N', 'PCCPERGCFKIYIS-AWEZNQCLSA-N', 'MNDBXUUTURYVHR-UHFFFAOYSA-N', 'MSYGAHOHLUJIKV-UHFFFAOYSA-N', 'XQYZDYMELSJDRZ-UHFFFAOYSA-N', 'QZGJNFBMYYEFGM-UHFFFAOYSA-N', 'DNPIJKNXFSPNNY-BZKDHIKHSA-N']}], 'P10599': [{'source': 'mychem.info', 'inchikey': None}], 'Q14324': [{'source': 'mychem.info', 'inchikey': None}], 'P34998': [{'source': 'mychem.info', 'inchikey': None}], 'P29279': [{'source': 'mychem.info', 'inchikey': None}], 'Q99075': [{'source': 'mychem.info', 'inchikey': None}], 'Q9UKV0': [{'source': 'mychem.info', 'inchikey': ['FPOHNWQLNRZRFC-ZHACJKMWSA-N', 'NIJJYAXOARWZEE-UHFFFAOYSA-N']}], 'P62834': [{'source': 'mychem.info', 'inchikey': None}], 'Q12913': [{'source': 'mychem.info', 'inchikey': None}], 'Q96MM3': [{'source': 'mychem.info', 'inchikey': None}], 'P04216': [{'source': 'mychem.info', 'inchikey': None}], 'P62736': [{'source': 'mychem.info', 'inchikey': None}], 'P11055': [{'source': 'mychem.info', 'inchikey': None}], 'Q9BUB5': [{'source': 'mychem.info', 'inchikey': None}], 'O43524': [{'source': 'mychem.info', 'inchikey': None}], 'P02671': [{'source': 'mychem.info', 'inchikey': ['DB00009', 'DB05099', 'DB05675', 'DB00031', 'MNQYNQBOVCBZIQ-JQOFMKNESA-A', 'DB00015', 'DB04919', 'DB00029']}], 'P19338': [{'source': 'mychem.info', 'inchikey': None}], 'P25963': [{'source': 'mychem.info', 'inchikey': 'BSYNRYMUTXBXSQ-UHFFFAOYSA-N'}], 'P61224': [{'source': 'mychem.info', 'inchikey': None}], 'O43707': [{'source': 'mychem.info', 'inchikey': None}], 'P22105': [{'source': 'mychem.info', 'inchikey': None}], 'P22692': [{'source': 'mychem.info', 'inchikey': None}], 'P42226': [{'source': 'mychem.info', 'inchikey': None}], 'Q9UKB1': [{'source': 'mychem.info', 'inchikey': None}], 'P16520': [{'source': 'mychem.info', 'inchikey': None}], 'P98177': [{'source': 'mychem.info', 'inchikey': None}], 'P45985': [{'source': 'mychem.info', 'inchikey': None}], 'P04792': [{'source': 'mychem.info', 'inchikey': 'DB06094'}], 'P29475': [{'source': 'mychem.info', 'inchikey': ['JDRSQGJWTVRNGM-QFBILLFUSA-N', 'KRILJVOCVSUPMA-SSDOTTSWSA-O', 'IUFRDGFKAVLPFZ-CSMHCCOUSA-N', 'LCMOXIFARISMOH-UHFFFAOYSA-N', 'MRAUNPAHJZDYCK-BYPYZUCNSA-N', 'RMSWBHUVFNFNIZ-ZETCQYMHSA-N', 'ZPQWZDPOLXVMOU-ZETCQYMHSA-O', 'OITVEDMMUMUWTL-UHFFFAOYSA-N', 'ULDDTFAPYWLDGF-UHFFFAOYSA-N', 'KUZKVXUOMSVPOA-NKWVEPMBSA-N']}], 'P49763': [{'source': 'mychem.info', 'inchikey': 'DB08885'}], 'O15105': [{'source': 'mychem.info', 'inchikey': None}], 'Q9BRJ9': [{'source': 'mychem.info', 'inchikey': None}], 'P09238': [{'source': 'mychem.info', 'inchikey': ['OCSMOTCMPXTDND-OUAUKWLOSA-N', 'JIRXORZYIXSWOB-UHFFFAOYSA-N']}], 'P63092': [{'source': 'mychem.info', 'inchikey': ['NFGZMOICZSFFLB-DSYKOEDSSA-N', 'OHCQJHSOBUTRHG-KGGHGJDLSA-N']}], 'Q96RR4': [{'source': 'mychem.info', 'inchikey': None}], 'Q13464': [{'source': 'mychem.info', 'inchikey': ['NGOGFTYYXHNFQH-UHFFFAOYSA-N', 'AWDORCFLUJZUQS-ZDUSSCGKSA-N', 'IYOZTVGMEWJPKR-IJLUTSLNSA-N', 'ZAVGJDAFCZAWSZ-UHFFFAOYSA-N']}], 'P08253': [{'source': 'mychem.info', 'inchikey': ['LVASCWIMLIKXLA-YSSOQSIOSA-N', 'DB05387', 'FAKRSMQSSFJEIM-RQJHMYQMSA-N', 'YJNCFXPJICILOK-HHHXNRCGSA-N', 'OCSMOTCMPXTDND-OUAUKWLOSA-N']}], 'Q96S42': [{'source': 'mychem.info', 'inchikey': None}], 'P54646': [{'source': 'mychem.info', 'inchikey': None}], 'Q13177': [{'source': 'mychem.info', 'inchikey': None}], 'Q9NR61': [{'source': 'mychem.info', 'inchikey': None}], 'P05106': [{'source': 'mychem.info', 'inchikey': ['DB00054', 'DB00098', 'DB05787', 'DB00063', 'COKMIXFXJJXBQG-NRFANRHFSA-N', 'PGCFXITVMNNKON-ROUUACIJSA-N']}], 'P14598': [{'source': 'mychem.info', 'inchikey': None}], 'Q9ULX9': [{'source': 'mychem.info', 'inchikey': None}], 'Q16661': [{'source': 'mychem.info', 'inchikey': None}], 'P05231': [{'source': 'mychem.info', 'inchikey': ['DB01404', 'DB05066', 'DB05017', 'DB05767', 'DB05250', 'DB05470', 'DB09036', 'DB05744']}], 'Q07817': [{'source': 'mychem.info', 'inchikey': 'LXWNTLBMNCXRQN-UHFFFAOYSA-N'}], 'P25106': [{'source': 'mychem.info', 'inchikey': None}], 'Q9UBI6': [{'source': 'mychem.info', 'inchikey': None}], 'P19838': [{'source': 'mychem.info', 'inchikey': ['DB05212', 'DB08814', 'UEJJHQNACJXSKW-UHFFFAOYSA-N', 'DB05471', 'DB05451', 'DB05767', 'DB05464', 'UAJUXJSXCLUTNU-UHFFFAOYSA-N', 'DB05487']}], 'P05412': [{'source': 'mychem.info', 'inchikey': ['JXLYSJRDGCGARV-XQKSVPLYSA-N', 'YOSHYTLCDANDAN-UHFFFAOYSA-N', 'DB05785', 'GOLCXWYRSKYTSP-UHFFFAOYSA-N']}], 'P98077': [{'source': 'mychem.info', 'inchikey': None}], 'O95467': [{'source': 'mychem.info', 'inchikey': None}], 'P07737': [{'source': 'mychem.info', 'inchikey': 'VCGFYFKJZGIZMX-UHFFFAOYSA-N'}], 'P46108': [{'source': 'mychem.info', 'inchikey': None}], 'P31749': [{'source': 'mychem.info', 'inchikey': ['ZKHQWZAMYRWXGA-YPLCUDRINA-N', 'YFFJXGRXFASBDL-UHFFFAOYSA-N', 'OKGCSZUKOGMZAL-UHFFFAOYSA-N', 'CIPFCGZLFXVXBG-ZIQZFLOESA-N', 'GOLCXWYRSKYTSP-UHFFFAOYSA-N']}], 'Q06889': [{'source': 'mychem.info', 'inchikey': None}], 'P29353': [{'source': 'mychem.info', 'inchikey': None}], 'Q9H4E5': [{'source': 'mychem.info', 'inchikey': None}], 'P18850': [{'source': 'mychem.info', 'inchikey': None}], 'P56524': [{'source': 'mychem.info', 'inchikey': ['FPOHNWQLNRZRFC-ZHACJKMWSA-N', 'SMSIXMLQOONOQQ-UHFFFAOYSA-N', 'OFBFUNBBOQCNFX-UHFFFAOYSA-N', 'OHRURASPPZQGQM-QDBHDZETSA-N']}], 'P02679': [{'source': 'mychem.info', 'inchikey': 'MNQYNQBOVCBZIQ-JQOFMKNESA-A'}], 'Q13905': [{'source': 'mychem.info', 'inchikey': None}], 'Q15075': [{'source': 'mychem.info', 'inchikey': 'PUVHMWJJTITUGO-KNBDEEDGSA-N'}], 'P06850': [{'source': 'mychem.info', 'inchikey': ['COLNVLDHVKWLRT-MRVPVSSYSA-N', 'DB01285', 'FUOOLUPWFVMBKG-UHFFFAOYSA-N']}], 'P08134': [{'source': 'mychem.info', 'inchikey': None}], 'P01584': [{'source': 'mychem.info', 'inchikey': ['DB05507', 'DB06062', 'DB06168', 'QAIOVDNCIZSSSF-HROOLPEPSA-N', 'CHPZKNULDCNCBW-UHFFFAOYSA-N', 'DB05133', 'DB05250', 'DB05412', 'DB06372', 'DB05470']}], 'Q96B36': [{'source': 'mychem.info', 'inchikey': None}], 'P46940': [{'source': 'mychem.info', 'inchikey': None}], 'Q9BPZ7': [{'source': 'mychem.info', 'inchikey': None}], 'P24844': [{'source': 'mychem.info', 'inchikey': None}], 'P78413': [{'source': 'mychem.info', 'inchikey': None}], 'P40145': [{'source': 'mychem.info', 'inchikey': None}], 'P17302': [{'source': 'mychem.info', 'inchikey': 'OGHNVEJMJSYVRP-UHFFFAOYSA-N'}], 'P30559': [{'source': 'mychem.info', 'inchikey': ['DB00107', 'NSTRIRCPWQHTIA-DTRKZRJBSA-N']}], 'P31946': [{'source': 'mychem.info', 'inchikey': None}], 'Q04206': [{'source': 'mychem.info', 'inchikey': None}], 'P68032': [{'source': 'mychem.info', 'inchikey': None}], 'P15311': [{'source': 'mychem.info', 'inchikey': None}], 'P63211': [{'source': 'mychem.info', 'inchikey': None}], 'P06881': [{'source': 'mychem.info', 'inchikey': ['ITIXDWVDFFXNEG-UHFFFAOYSA-N', 'DB05760']}], 'P43250': [{'source': 'mychem.info', 'inchikey': None}], 'Q00872': [{'source': 'mychem.info', 'inchikey': None}], 'Q9H1R3': [{'source': 'mychem.info', 'inchikey': 'IFFPICMESYHZPQ-UHFFFAOYSA-N'}], 'P29474': [{'source': 'mychem.info', 'inchikey': ['XSSNABKEYXKKMK-UHFFFAOYSA-N', 'FFKYNFXDBBLWGF-UHFFFAOYSA-N', 'FNKQXYHWGSIFBK-KODRXGBYSA-N', 'YEUSLPIIQGZHQB-UHFFFAOYSA-N', 'JIIBOYBTIWHZFJ-ZETCQYMHSA-N', 'JYBXKTLYOMPMQY-UHFFFAOYSA-N', 'CDIOIIJXUJXYPB-UHFFFAOYSA-O', 'UYZFAUAYFLEHRC-ZCFIWIBFSA-N', 'GFYAZUABYOOPCN-UHFFFAOYSA-N', 'REGFWZVTTFGQOJ-UHFFFAOYSA-N']}], 'Q14524': [{'source': 'mychem.info', 'inchikey': ['CJDRUOGAGYHKKD-HEFSZTOGSA-N', 'XWLUWCNOOVRFPX-UHFFFAOYSA-N', 'UCEWGESNIULAGX-UHFFFAOYSA-N', 'PJWPNDMDCLXCOM-UHFFFAOYSA-N', 'MAFMQEKGGFWBAB-UHFFFAOYSA-N', 'GMHKMTDVRCWUDX-UHFFFAOYSA-N', 'FUBVWMNBEHXPSU-UHFFFAOYSA-N', 'FFGPTBGBLSHEPO-UHFFFAOYSA-N', 'BUJAGSGYPOAWEI-UHFFFAOYSA-N', 'CTRLABGOLIVAIY-UHFFFAOYSA-N']}], 'O14908': [{'source': 'mychem.info', 'inchikey': None}], 'O94907': [{'source': 'mychem.info', 'inchikey': None}], 'Q9HBX9': [{'source': 'mychem.info', 'inchikey': None}], 'Q9UMR3': [{'source': 'mychem.info', 'inchikey': None}], 'Q13555': [{'source': 'mychem.info', 'inchikey': ['FYCOTGCSHZKHPR-UHFFFAOYSA-N', 'UBPYILGKFZZVDX-UHFFFAOYSA-N']}], 'P13533': [{'source': 'mychem.info', 'inchikey': None}], 'Q13322': [{'source': 'mychem.info', 'inchikey': None}], 'Q12778': [{'source': 'mychem.info', 'inchikey': None}], 'Q99593': [{'source': 'mychem.info', 'inchikey': None}], 'P18848': [{'source': 'mychem.info', 'inchikey': None}], 'P54284': [{'source': 'mychem.info', 'inchikey': ['UIAGMCDKSXEBJQ-UHFFFAOYSA-N', 'HBNPJJILLOYFJU-VMPREFPWSA-N', 'SGTNSNPWRIOYBX-UHFFFAOYSA-N', 'ZQTNQVWKHCQYLQ-UHFFFAOYSA-N']}], 'P16615': [{'source': 'mychem.info', 'inchikey': None}], 'P05771': [{'source': 'mychem.info', 'inchikey': ['AFSDNFLWKVMVRB-UHFFFAOYSA-N', 'KUQZVISZELWDNZ-UHFFFAOYSA-N', 'GVJHHUAWPYXKBD-IEOSBIPESA-N']}], 'P52735': [{'source': 'mychem.info', 'inchikey': None}], 'Q13085': [{'source': 'mychem.info', 'inchikey': 'YBJHBAHKTGYVGT-ZKWXMUAHSA-N'}], 'P11308': [{'source': 'mychem.info', 'inchikey': None}], 'P08833': [{'source': 'mychem.info', 'inchikey': None}], 'P01258': [{'source': 'mychem.info', 'inchikey': None}], 'P61925': [{'source': 'mychem.info', 'inchikey': ['HPWBHQIUIBFTQC-UHFFFAOYSA-N', 'RZIDZIGAXXNODG-UHFFFAOYSA-O', 'BPNUQXPIQBZCMR-IBGZPJMESA-N', 'MSRXUUDVRNWSTN-UHFFFAOYSA-N', 'PJWUXKNZVMEPPH-UHFFFAOYSA-N', 'KCWPSUKJCKZEAO-UHFFFAOYSA-N', 'DQIXTEDFNFZMCM-SFHVURJKSA-N', 'VLPMRZSKJUTRBQ-IBGZPJMESA-N', 'FJIMLXBJUVLMMN-UHFFFAOYSA-N', 'HWVGILTYGZFGLR-QGZVFWFLSA-N']}], 'O14733': [{'source': 'mychem.info', 'inchikey': None}], 'P22694': [{'source': 'mychem.info', 'inchikey': 'USRGIUJOYOXOQJ-STHAYSLISA-N'}], 'Q13554': [{'source': 'mychem.info', 'inchikey': 'MFMSRHREFZCFSN-UHFFFAOYSA-N'}], 'P13497': [{'source': 'mychem.info', 'inchikey': None}], 'P49795': [{'source': 'mychem.info', 'inchikey': None}], 'Q9UHI8': [{'source': 'mychem.info', 'inchikey': None}], 'P06241': [{'source': 'mychem.info', 'inchikey': ['YFNKIDBQEZZDLK-UHFFFAOYSA-N', 'ZBNZXTGUTAYRHI-UHFFFAOYSA-N']}], 'P43378': [{'source': 'mychem.info', 'inchikey': None}], 'O95393': [{'source': 'mychem.info', 'inchikey': None}], 'P02675': [{'source': 'mychem.info', 'inchikey': ['DB04919', 'MNQYNQBOVCBZIQ-JQOFMKNESA-A']}], 'P49796': [{'source': 'mychem.info', 'inchikey': None}], 'P10916': [{'source': 'mychem.info', 'inchikey': None}], 'P32121': [{'source': 'mychem.info', 'inchikey': None}], 'Q9H3M7': [{'source': 'mychem.info', 'inchikey': None}], 'P18084': [{'source': 'mychem.info', 'inchikey': None}], 'Q92736': [{'source': 'mychem.info', 'inchikey': None}], 'P63218': [{'source': 'mychem.info', 'inchikey': None}], 'Q9NP31': [{'source': 'mychem.info', 'inchikey': None}], 'P04808': [{'source': 'mychem.info', 'inchikey': None}], 'P04049': [{'source': 'mychem.info', 'inchikey': ['MLDQJTXFUGDVEO-UHFFFAOYSA-N', 'DB05268', 'FNHKPVJBJVTLMP-UHFFFAOYSA-N', 'DB05190', 'DB04973', 'BFSMGDJOXZAERB-UHFFFAOYSA-N']}], 'P05019': [{'source': 'mychem.info', 'inchikey': ['OJSUWTDDXLCUFR-YVKIRAPASA-N', 'IZWSFJTYBVKZNK-UHFFFAOYSA-O']}], 'Q14573': [{'source': 'mychem.info', 'inchikey': None}], 'Q02108': [{'source': 'mychem.info', 'inchikey': None}], 'P22681': [{'source': 'mychem.info', 'inchikey': None}], 'P05362': [{'source': 'mychem.info', 'inchikey': ['KIUKXJAPPMFGSW-MNSSHETKSA-N', 'DB00108']}], 'P13726': [{'source': 'mychem.info', 'inchikey': ['BVBGZXXLVHYBKI-UHFFFAOYSA-N', 'DB00036', 'CKSIVONWCYACAP-UHFFFAOYSA-N', 'SRPOHNDQBDHONJ-UHFFFAOYSA-N']}], 'P42345': [{'source': 'mychem.info', 'inchikey': ['DB05210', 'DB05241', 'CBPNZQVSJQDFBE-FUXHJELOSA-N', 'DB04974', 'QFJCIRLUMZQUOT-KLHQEZAJSA-N', 'KASDHRXLYQOAKZ-KDCWXYOMSA-N', 'HKVAMNSJSFKALM-CYUZEOOHSA-N']}], 'P17655': [{'source': 'mychem.info', 'inchikey': None}], 'P12931': [{'source': 'mychem.info', 'inchikey': ['WCMLXBUNHNAMNH-FTJBHMTQSA-N', 'RLLAUERCSKPFGD-FQLXRVMXSA-N', 'FRLTXWJJMCIUNT-UHFFFAOYSA-N', 'AXIBZLYWMBUYRV-NSHDSACASA-N', 'WWYDYZMNFQIYPT-UHFFFAOYSA-N', 'JGWHILNNHLDARR-UHFFFAOYSA-N', 'SAFPHFWYRLLBFO-IZLXSDGUSA-N', 'ZCIXBBSRVLSRJQ-QPJJXVBHSA-N', 'GGPXNASQNUOIPB-IZLXSDGUSA-N', 'WKTQBTSOHBKBRW-WDYNHAJCSA-N']}], 'P17948': [{'source': 'mychem.info', 'inchikey': ['MLDQJTXFUGDVEO-UHFFFAOYSA-N', 'DB06101', 'DB06080', 'DB05075', 'GGPZCOONYBPZEW-UHFFFAOYSA-N', 'DB06626', 'YCOYDOIWSSHVCK-UHFFFAOYSA-N', 'XZXHXSATPCNXJR-ZIADKAODSA-N', 'DB05913', 'WINHZLLDWRZWRT-ATVHPVEESA-N']}], 'O94810': [{'source': 'mychem.info', 'inchikey': None}], 'Q02297': [{'source': 'mychem.info', 'inchikey': None}], 'O15273': [{'source': 'mychem.info', 'inchikey': None}], 'P31321': [{'source': 'mychem.info', 'inchikey': None}], 'P22736': [{'source': 'mychem.info', 'inchikey': None}], 'Q99466': [{'source': 'mychem.info', 'inchikey': None}], 'P63000': [{'source': 'mychem.info', 'inchikey': 'QGWNDRXFNXRZMB-BZKDHIKHSA-N'}], 'P27986': [{'source': 'mychem.info', 'inchikey': ['JWZZKOKVBUJMES-UHFFFAOYSA-N', 'DB05210', 'QDLHCMPXEPAAMD-QAIWCSMKSA-N']}], 'Q5JWF2': [{'source': 'mychem.info', 'inchikey': None}], 'P40763': [{'source': 'mychem.info', 'inchikey': None}], 'Q13469': [{'source': 'mychem.info', 'inchikey': None}], 'Q14896': [{'source': 'mychem.info', 'inchikey': None}], 'Q02747': [{'source': 'mychem.info', 'inchikey': None}], 'P16234': [{'source': 'mychem.info', 'inchikey': ['WINHZLLDWRZWRT-ATVHPVEESA-N', 'PHXJVRSECIGDHY-UHFFFAOYSA-N', 'KTUFNOKKBVMGRW-UHFFFAOYSA-N', 'DB05216', 'FNHKPVJBJVTLMP-UHFFFAOYSA-N', 'DB00102', 'DB05146', 'CUIHSIWYWATEQL-UHFFFAOYSA-N']}], 'P18846': [{'source': 'mychem.info', 'inchikey': None}], 'P07900': [{'source': 'mychem.info', 'inchikey': ['KYIXUSLGFINPTC-WVFAEZDRSA-N', 'IVPCTHKPOPQMSX-UHFFFAOYSA-N', 'XQKFKSJUBJPOLY-UHFFFAOYSA-N', 'ZUJWSOPIDUWELP-UHFFFAOYSA-N', 'WUJFGZAAFADPSF-UHFFFAOYSA-N', 'BDFJIEMVNDLSTB-UHFFFAOYSA-N', 'JXPCDMPJCKNLBY-UHFFFAOYSA-N', 'UOPQHPBCVYHSFF-UHFFFAOYSA-N', 'ARWHTQLGMWHTAZ-UHFFFAOYSA-N', 'HUNAOTXNHVALTN-UHFFFAOYSA-N']}], 'Q9Y261': [{'source': 'mychem.info', 'inchikey': None}], 'P42566': [{'source': 'mychem.info', 'inchikey': None}], 'P0DMV9': [{'source': 'mychem.info', 'inchikey': None}], 'P33151': [{'source': 'mychem.info', 'inchikey': ['DB05685', 'GOTYRUGSSMKFNF-UHFFFAOYSA-N']}], 'P19878': [{'source': 'mychem.info', 'inchikey': None}], 'P43354': [{'source': 'mychem.info', 'inchikey': None}], 'P13500': [{'source': 'mychem.info', 'inchikey': ['WZNJWVWKTVETCG-YFKPBYRVSA-N', 'POZRVZJJTULAOH-LHZXLZLDSA-N']}], 'Q8NFM4': [{'source': 'mychem.info', 'inchikey': None}], 'Q06413': [{'source': 'mychem.info', 'inchikey': None}], 'P09038': [{'source': 'mychem.info', 'inchikey': ['IRTONBQROPNEJZ-UOWFLXDJSA-N', 'DQTRACMFIGDHSN-RUTHBDMASA-N', 'SLBOXLMLDIGNGG-NQXXGFSBSA-N', 'RIWLPSIAFBLILR-WVNGMBSFSA-N', 'QFJCIRLUMZQUOT-KLHQEZAJSA-N', 'MNQYNQBOVCBZIQ-JQOFMKNESA-A', 'FCCNSUIJIOOXEZ-SJYYZXOBSA-N']}], 'P36507': [{'source': 'mychem.info', 'inchikey': ['UBPYILGKFZZVDX-UHFFFAOYSA-N', 'LIRYPHYGHXZJBZ-UHFFFAOYSA-N']}], 'P60953': [{'source': 'mychem.info', 'inchikey': ['QGWNDRXFNXRZMB-BZKDHIKHSA-N', 'ZGPDMUBRWRJAQQ-BZKDHIKHSA-N']}], 'Q96J02': [{'source': 'mychem.info', 'inchikey': None}], 'Q9BZL6': [{'source': 'mychem.info', 'inchikey': None}], 'Q9Y2B9': [{'source': 'mychem.info', 'inchikey': None}], 'P05129': [{'source': 'mychem.info', 'inchikey': None}], 'Q8WXD0': [{'source': 'mychem.info', 'inchikey': None}], 'P26367': [{'source': 'mychem.info', 'inchikey': None}], 'Q08828': [{'source': 'mychem.info', 'inchikey': ['ZKHQWZAMYRWXGA-YPLCUDRINA-N', 'UDMBCSSLTHHNCD-KQYNXXCUSA-N']}], 'P49798': [{'source': 'mychem.info', 'inchikey': None}], 'P0DMV8': [{'source': 'mychem.info', 'inchikey': None}], 'P10145': [{'source': 'mychem.info', 'inchikey': ['JUOSGGQXEBBCJB-GORDUTHDSA-N', 'DB05484', 'RIWLPSIAFBLILR-WVNGMBSFSA-N']}], 'P10721': [{'source': 'mychem.info', 'inchikey': ['HHZIURLSWUIHRB-UHFFFAOYSA-N', 'WINHZLLDWRZWRT-ATVHPVEESA-N', 'DB06080', 'DB05216', 'DCWXELXMIBXGTH-QMMMGPOBSA-N', 'DB05146', 'DB05913', 'DB05153', 'ZBNZXTGUTAYRHI-UHFFFAOYSA-N', 'CUIHSIWYWATEQL-UHFFFAOYSA-N']}], 'P13591': [{'source': 'mychem.info', 'inchikey': None}], 'P62879': [{'source': 'mychem.info', 'inchikey': None}], 'Q14192': [{'source': 'mychem.info', 'inchikey': None}], 'P45379': [{'source': 'mychem.info', 'inchikey': None}], 'P63244': [{'source': 'mychem.info', 'inchikey': None}], 'Q14643': [{'source': 'mychem.info', 'inchikey': 'PEDCQBHIVMGVHV-UHFFFAOYSA-N'}], 'Q15413': [{'source': 'mychem.info', 'inchikey': None}], 'P41240': [{'source': 'mychem.info', 'inchikey': ['DB05075', 'HKSZLNNOFSGOKW-UCBFMKAXSA-N']}], 'P17252': [{'source': 'mychem.info', 'inchikey': ['AFSDNFLWKVMVRB-UHFFFAOYSA-N', 'UNJJBGNPUUVVFQ-ZJUUUORDSA-N', 'GVJHHUAWPYXKBD-IEOSBIPESA-N', 'VDJHFHXMUKFKET-WDUFCVPESA-N']}], 'Q9Y2D1': [{'source': 'mychem.info', 'inchikey': None}], 'Q15011': [{'source': 'mychem.info', 'inchikey': None}], 'O60894': [{'source': 'mychem.info', 'inchikey': 'DB01278'}], 'Q14571': [{'source': 'mychem.info', 'inchikey': None}], 'P24666': [{'source': 'mychem.info', 'inchikey': ['GFFGJBXGBJISGV-UHFFFAOYSA-N', 'XZKIHKMTEMTJQX-UHFFFAOYSA-N']}], 'P52564': [{'source': 'mychem.info', 'inchikey': None}], 'O95622': [{'source': 'mychem.info', 'inchikey': ['NFGZMOICZSFFLB-DSYKOEDSSA-N', 'OHCQJHSOBUTRHG-KGGHGJDLSA-N']}], 'P53805': [{'source': 'mychem.info', 'inchikey': None}], 'P19429': [{'source': 'mychem.info', 'inchikey': 'IDEHCMNLNCJQST-UHFFFAOYSA-N'}], 'P41134': [{'source': 'mychem.info', 'inchikey': None}], 'P49758': [{'source': 'mychem.info', 'inchikey': None}], 'O75916': [{'source': 'mychem.info', 'inchikey': None}], 'P10644': [{'source': 'mychem.info', 'inchikey': ['IVOMOUWHDPKRLL-ASCDQALMSA-N', 'ZOOGRGPOEVQQDX-KHLHZJAASA-N', 'SMPNJFHAPJOHPP-BTQOAJACSA-N', 'DB05798']}], 'Q92570': [{'source': 'mychem.info', 'inchikey': None}], 'O43889': [{'source': 'mychem.info', 'inchikey': None}], 'P62993': [{'source': 'mychem.info', 'inchikey': ['DB00061', 'RHYFMOCFCFUTNH-GZNVFMSSSA-N']}], 'P51531': [{'source': 'mychem.info', 'inchikey': None}], 'P35579': [{'source': 'mychem.info', 'inchikey': None}], 'Q08499': [{'source': 'mychem.info', 'inchikey': ['PDMUULPVBYQBBK-GFCCVEGCSA-N', 'BCKARVLFIJPHQU-UHFFFAOYSA-N', 'HJORMJIFDVBMOB-LBPRGKRZSA-N', 'HHKZCCWKTZRCCL-UHFFFAOYSA-N', 'BUIZDUYEIRRDAV-UHFFFAOYSA-O', 'FIEYZIRYXYDMSK-UHFFFAOYSA-N', 'HJMQDJPMQIHLPB-UHFFFAOYSA-N', 'XDBHURGONHZNJF-UHFFFAOYSA-N', 'ZDSXCFSUGVAQSB-UHFFFAOYSA-N', 'MSYGAHOHLUJIKV-UHFFFAOYSA-N']}], 'P23471': [{'source': 'mychem.info', 'inchikey': None}], 'Q9UEF7': [{'source': 'mychem.info', 'inchikey': None}], 'P41220': [{'source': 'mychem.info', 'inchikey': None}], 'Q9UK08': [{'source': 'mychem.info', 'inchikey': None}], 'P23443': [{'source': 'mychem.info', 'inchikey': None}], 'Q9Y5Q5': [{'source': 'mychem.info', 'inchikey': None}], 'P48995': [{'source': 'mychem.info', 'inchikey': None}], 'O43306': [{'source': 'mychem.info', 'inchikey': None}], 'P18206': [{'source': 'mychem.info', 'inchikey': None}], 'P10415': [{'source': 'mychem.info', 'inchikey': ['DB05281', 'LRCZQSDQZJBHAF-PUBGEWHCSA-N', 'DB04940', 'HEFNNWSXXWATRW-UHFFFAOYSA-N', 'LQBVNQSMGBZMKD-UHFFFAOYSA-N', 'DB05764', 'ZDZOTLJHXYCWBA-VCVYQWHSSA-N', 'RCINICONZNJXQF-MZXODVADSA-N', 'RUOKEQAAGRXIBM-GFCCVEGCSA-N']}], 'P20929': [{'source': 'mychem.info', 'inchikey': None}], 'O14964': [{'source': 'mychem.info', 'inchikey': 'KRKNYBCHXYNGOX-UHFFFAOYSA-N'}], 'Q9HAV0': [{'source': 'mychem.info', 'inchikey': None}], 'Q93084': [{'source': 'mychem.info', 'inchikey': None}], 'P28482': [{'source': 'mychem.info', 'inchikey': ['SSNQAUBBJYCSMY-KNTMUCJRSA-N', 'XVECMUKVOMUNLE-UHFFFAOYSA-N', 'CDMGBJANTYXAIV-HHHXNRCGSA-N', 'PAIQRYUOBBCBSE-UHFFFAOYSA-N', 'VSPFURGQAYMVAN-UHFFFAOYSA-N', 'YMUYGRBBEDYUOP-HXUWFJFHSA-N', 'PDJZASCRQRBYQS-UHFFFAOYSA-N', 'NEQZWEXWOFPKOT-RCPUWQGCSA-N', 'GTVPOLSIJWJJNY-UHFFFAOYSA-N', 'OPBUUQBZKJSWTN-UHFFFAOYSA-N']}], 'P22004': [{'source': 'mychem.info', 'inchikey': None}], 'O60895': [{'source': 'mychem.info', 'inchikey': 'DB01278'}], 'Q8WUI4': [{'source': 'mychem.info', 'inchikey': ['FPOHNWQLNRZRFC-ZHACJKMWSA-N', 'RTKIYFITIVXBLE-QEQCGCAPSA-N']}], 'P51178': [{'source': 'mychem.info', 'inchikey': 'MMWCIQZXVOZEGG-WZWPATEWSA-N'}], 'P19419': [{'source': 'mychem.info', 'inchikey': None}], 'P46734': [{'source': 'mychem.info', 'inchikey': None}], 'P53778': [{'source': 'mychem.info', 'inchikey': ['DB05157', 'PVKSNHVPLWYQGJ-FCIPNVEPSA-N', 'WMBUVOLZSWTKMP-KQFGJPIXSA-N', 'USRGIUJOYOXOQJ-STHAYSLISA-N']}], 'P29350': [{'source': 'mychem.info', 'inchikey': None}], 'Q9UM54': [{'source': 'mychem.info', 'inchikey': None}], 'P56704': [{'source': 'mychem.info', 'inchikey': None}], 'Q03405': [{'source': 'mychem.info', 'inchikey': ['DB00009', 'DB00031', 'DB05476', 'DB00013', 'DB00015', 'DB00029']}], 'P24723': [{'source': 'mychem.info', 'inchikey': None}], 'P61952': [{'source': 'mychem.info', 'inchikey': None}], 'Q06547': [{'source': 'mychem.info', 'inchikey': None}], 'Q96KB5': [{'source': 'mychem.info', 'inchikey': None}], 'P01100': [{'source': 'mychem.info', 'inchikey': 'DB08813'}], 'P49137': [{'source': 'mychem.info', 'inchikey': ['TXYKBKYDFZQOCB-SSDOTTSWSA-N', 'XJJYJNMNYDNXNO-UHFFFAOYSA-N', 'MCBPNFWHHNJTGN-LLVKDONJSA-N', 'QWFFPYQWUWLDBV-NSHDSACASA-N', 'HKSZLNNOFSGOKW-UCBFMKAXSA-N', 'CMWRPDHVGMHLSZ-GFCCVEGCSA-N', 'OWFLADWRSCINST-UHFFFAOYSA-N']}], 'Q02156': [{'source': 'mychem.info', 'inchikey': 'DB06064'}], 'Q9H9S0': [{'source': 'mychem.info', 'inchikey': None}], 'Q6ZVN8': [{'source': 'mychem.info', 'inchikey': None}], 'Q9H9Z2': [{'source': 'mychem.info', 'inchikey': None}], 'Q92597': [{'source': 'mychem.info', 'inchikey': None}], 'O15327': [{'source': 'mychem.info', 'inchikey': None}], 'Q9H8L6': [{'source': 'mychem.info', 'inchikey': None}], 'P52179': [{'source': 'mychem.info', 'inchikey': None}], 'P50150': [{'source': 'mychem.info', 'inchikey': None}], 'P24592': [{'source': 'mychem.info', 'inchikey': None}], 'P15144': [{'source': 'mychem.info', 'inchikey': ['QURWXBZNHXJZBE-MCDGZUPGSA-N', 'OLNTVTPDXPETLC-XPWALMASSA-N']}], 'O15218': [{'source': 'mychem.info', 'inchikey': None}], 'Q9NS28': [{'source': 'mychem.info', 'inchikey': None}], 'Q99683': [{'source': 'mychem.info', 'inchikey': None}], 'P35318': [{'source': 'mychem.info', 'inchikey': None}], 'Q8NHX9': [{'source': 'mychem.info', 'inchikey': None}], 'P45984': [{'source': 'mychem.info', 'inchikey': 'LMDMJDCLPIVGQD-UHFFFAOYSA-N'}], 'Q8WZ42': [{'source': 'mychem.info', 'inchikey': None}], 'O00459': [{'source': 'mychem.info', 'inchikey': ['JWZZKOKVBUJMES-UHFFFAOYSA-N', 'DB05210']}], 'Q05655': [{'source': 'mychem.info', 'inchikey': ['SDSVJYOOAPRSDA-RPCQODIISA-N', 'VDJHFHXMUKFKET-WDUFCVPESA-N']}], 'Q16625': [{'source': 'mychem.info', 'inchikey': None}], 'P18847': [{'source': 'mychem.info', 'inchikey': None}], 'P11831': [{'source': 'mychem.info', 'inchikey': None}], 'Q99704': [{'source': 'mychem.info', 'inchikey': None}], 'Q9UQM7': [{'source': 'mychem.info', 'inchikey': ['VHJLVAABSRFDPM-QWWZWVQMSA-N', 'RKUMZEVCWKZXFV-YOCZKUTFSA-N', 'CJVLLWDZYINSDB-UHFFFAOYSA-N']}], 'O60266': [{'source': 'mychem.info', 'inchikey': None}], 'P15036': [{'source': 'mychem.info', 'inchikey': None}], 'O75582': [{'source': 'mychem.info', 'inchikey': None}], 'Q14003': [{'source': 'mychem.info', 'inchikey': 'NUKYPUAOHBNCPY-UHFFFAOYSA-N'}], 'Q9H6I2': [{'source': 'mychem.info', 'inchikey': None}], 'P63215': [{'source': 'mychem.info', 'inchikey': None}], 'P01344': [{'source': 'mychem.info', 'inchikey': None}], 'P05976': [{'source': 'mychem.info', 'inchikey': None}], 'P01137': [{'source': 'mychem.info', 'inchikey': ['DB06205', 'DB00070']}], 'P08047': [{'source': 'mychem.info', 'inchikey': None}], 'P43694': [{'source': 'mychem.info', 'inchikey': None}], 'P19237': [{'source': 'mychem.info', 'inchikey': None}], 'O94989': [{'source': 'mychem.info', 'inchikey': None}], 'P12644': [{'source': 'mychem.info', 'inchikey': None}], 'P32298': [{'source': 'mychem.info', 'inchikey': None}], 'P32418': [{'source': 'mychem.info', 'inchikey': ['JAZBEHYOTPTENJ-JLNKQSITSA-N', 'DTOSIQBPPRVQHS-PDBXOOCHSA-N']}], 'P00749': [{'source': 'mychem.info', 'inchikey': ['FWTQOPWAMQXIMI-UHFFFAOYSA-N', 'DB03729', 'JDYIYIRPQKMWMM-UHFFFAOYSA-N', 'KQUXAFOLFXHVQN-UHFFFAOYSA-N', 'GRQLDCHTDNYVQI-UHFFFAOYSA-N', 'VLPIATFUUWWMKC-SNVBAGLBSA-N', 'AECPTICWHONWNW-UHFFFAOYSA-N', 'NQRIWXVAIWPBEM-OALUTQOASA-N', 'QKGFTDAISIBIBV-UHFFFAOYSA-N', 'DARQQJKHXPXSRO-QFIPXVFZSA-N']}], 'P16333': [{'source': 'mychem.info', 'inchikey': None}], 'P08590': [{'source': 'mychem.info', 'inchikey': None}], 'Q9UGC6': [{'source': 'mychem.info', 'inchikey': None}], 'Q01860': [{'source': 'mychem.info', 'inchikey': None}], 'P18065': [{'source': 'mychem.info', 'inchikey': None}], 'O43566': [{'source': 'mychem.info', 'inchikey': None}], 'P35221': [{'source': 'mychem.info', 'inchikey': None}], 'P25445': [{'source': 'mychem.info', 'inchikey': None}], 'Q13131': [{'source': 'mychem.info', 'inchikey': ['UDMBCSSLTHHNCD-KQYNXXCUSA-N', 'ZKHQWZAMYRWXGA-YPLCUDRINA-N', 'ICFJFFQQTFMIBG-UHFFFAOYSA-N']}], 'P52952': [{'source': 'mychem.info', 'inchikey': None}], 'P46531': [{'source': 'mychem.info', 'inchikey': None}], 'Q14206': [{'source': 'mychem.info', 'inchikey': None}], 'O75460': [{'source': 'mychem.info', 'inchikey': 'WJNBSTLIALIIEW-UHFFFAOYSA-N'}], 'P49841': [{'source': 'mychem.info', 'inchikey': ['YAEMHJKFIIIULI-UHFFFAOYSA-N', 'LCBAQTCTQXHTJG-ZETCQYMHSA-N', 'DDLZLOKCJHBUHD-WAVHTBQISA-N', 'QBVJMUOTMRYUKR-UHFFFAOYSA-N', 'YFFJXGRXFASBDL-UHFFFAOYSA-N', 'ONVZFCHLOZUXRP-UHFFFAOYSA-N', 'RPGZQOOZHIEPJW-HNNXBMFYSA-N', 'OKGCSZUKOGMZAL-UHFFFAOYSA-N', 'TWYNGDRSMHRPSY-MRXNPFEDSA-N', 'TUTZKAQTSPMEBI-UHFFFAOYSA-N']}], 'Q08043': [{'source': 'mychem.info', 'inchikey': None}], 'P62330': [{'source': 'mychem.info', 'inchikey': ['QGWNDRXFNXRZMB-BZKDHIKHSA-N', 'XOFLBQFBSOEHOG-BZKDHIKHSA-N', 'TUNFSRHWOTWDNC-UHFFFAOYSA-N']}], 'O75575': [{'source': 'mychem.info', 'inchikey': None}], 'Q13253': [{'source': 'mychem.info', 'inchikey': None}], 'Q08462': [{'source': 'mychem.info', 'inchikey': ['NFGZMOICZSFFLB-DSYKOEDSSA-N', 'OHCQJHSOBUTRHG-KGGHGJDLSA-N']}], 'O95644': [{'source': 'mychem.info', 'inchikey': 'KWGRBVOPPLSCSI-WCBMZHEXSA-N'}], 'O60716': [{'source': 'mychem.info', 'inchikey': None}], 'P02585': [{'source': 'mychem.info', 'inchikey': ['OYPRJOBELJOOCE-UHFFFAOYSA-N', 'UYDLBVPAAFVANX-UHFFFAOYSA-N', 'RZTAMFZIAATZDJ-UHFFFAOYSA-N']}], 'Q99439': [{'source': 'mychem.info', 'inchikey': None}], 'P61371': [{'source': 'mychem.info', 'inchikey': None}], 'P27348': [{'source': 'mychem.info', 'inchikey': None}], 'Q15139': [{'source': 'mychem.info', 'inchikey': None}], 'P17612': [{'source': 'mychem.info', 'inchikey': ['SQLYTJZXRRDERK-LADGPHEKSA-N', 'XVLMXAUKCDSMMW-WBZRNCBQSA-N', 'MSRXUUDVRNWSTN-UHFFFAOYSA-N', 'FZJQHARRQUNVGZ-QZTJIDSGSA-N', 'LBFDERUQORUFIN-KRWDZBQOSA-N', 'CCIACUJJBPSOHE-KRWDZBQOSA-N', 'XYUFCXJZFZPEJD-PGRDOPGGSA-N', 'CAASENZOSQYNPX-WMZHIEFXSA-N', 'HHOVRZGUSBMKKU-ZDUSSCGKSA-N', 'HGBOYTHUEUWSSQ-UHFFFAOYSA-N']}], 'Q9NZJ5': [{'source': 'mychem.info', 'inchikey': None}], 'P49407': [{'source': 'mychem.info', 'inchikey': None}], 'P35609': [{'source': 'mychem.info', 'inchikey': None}], 'Q13158': [{'source': 'mychem.info', 'inchikey': None}], 'O15539': [{'source': 'mychem.info', 'inchikey': None}], 'P61586': [{'source': 'mychem.info', 'inchikey': 'QGWNDRXFNXRZMB-BZKDHIKHSA-N'}], 'Q8WU20': [{'source': 'mychem.info', 'inchikey': None}], 'P31947': [{'source': 'mychem.info', 'inchikey': None}], 'Q15561': [{'source': 'mychem.info', 'inchikey': None}], 'P12829': [{'source': 'mychem.info', 'inchikey': None}], 'Q9H2W2': [{'source': 'mychem.info', 'inchikey': None}], 'P20338': [{'source': 'mychem.info', 'inchikey': None}], 'Q99941': [{'source': 'mychem.info', 'inchikey': None}], 'P13805': [{'source': 'mychem.info', 'inchikey': None}], 'O14798': [{'source': 'mychem.info', 'inchikey': None}], 'Q32MK0': [{'source': 'mychem.info', 'inchikey': None}], 'P20339': [{'source': 'mychem.info', 'inchikey': ['QGWNDRXFNXRZMB-BZKDHIKHSA-N', 'XKMLYUALXHKNFT-BZKDHIKHSA-N', 'QEFRNWWLZKMPFJ-KNODYTOMSA-N']}], 'Q13574': [{'source': 'mychem.info', 'inchikey': None}], 'P53667': [{'source': 'mychem.info', 'inchikey': 'BFSMGDJOXZAERB-UHFFFAOYSA-N'}], 'P47712': [{'source': 'mychem.info', 'inchikey': ['WMWTYOKRWGGJOA-CENSZEJFSA-N', 'JZFPYUNJRRFVQU-UHFFFAOYSA-N', 'GPKJTRJOBQGKQK-UHFFFAOYSA-N']}], 'P09493': [{'source': 'mychem.info', 'inchikey': None}], 'P55196': [{'source': 'mychem.info', 'inchikey': 'HBYVUUWMCCSRBI-MRVPVSSYSA-N'}], 'Q02750': [{'source': 'mychem.info', 'inchikey': ['BSMCAPRUBJMWDF-KRWDZBQOSA-N', 'LIRYPHYGHXZJBZ-UHFFFAOYSA-N', 'XXSSGBYXSKOLAM-MRVPVSSYSA-N', 'FPDWDLAITHFTTP-UHFFFAOYSA-N', 'AMNKRBRQQAMACZ-UHFFFAOYSA-N', 'BDLJJGJCIWWATJ-OOHURIHSSA-N', 'FCADPEDUULETPK-SECBINFHSA-N', 'SUDAHWBOROXANE-SECBINFHSA-N', 'UBPYILGKFZZVDX-UHFFFAOYSA-N', 'KOZFSFOOLUUIGY-SOLYNIJKSA-N']}], 'P23528': [{'source': 'mychem.info', 'inchikey': 'SYELZBGXAIXKHU-UHFFFAOYSA-N'}], 'P14921': [{'source': 'mychem.info', 'inchikey': None}], 'Q9Y6I3': [{'source': 'mychem.info', 'inchikey': 'RYHBNJHYFVUHQT-UHFFFAOYSA-N'}], 'P61981': [{'source': 'mychem.info', 'inchikey': None}], 'O75116': [{'source': 'mychem.info', 'inchikey': ['NGOGFTYYXHNFQH-UHFFFAOYSA-N', 'IYOZTVGMEWJPKR-IJLUTSLNSA-N']}]}\n"
     ]
    }
   ],
   "source": [
    "inchi_result = ih.list_handler(input_id_list=set1u,\n",
    "                              _input_type='http://identifiers.org/uniprot/',\n",
    "                              _output_type='http://identifiers.org/inchikey/',\n",
    "                              uri=True)\n",
    "print(inchi_result)"
   ]
  },
  {
   "cell_type": "code",
   "execution_count": 10,
   "metadata": {
    "collapsed": false
   },
   "outputs": [
    {
     "name": "stdout",
     "output_type": "stream",
     "text": [
      "467\n"
     ]
    }
   ],
   "source": [
    "inchi_list = dict2list(inchi_result)\n",
    "print(len(inchi_list))"
   ]
  },
  {
   "cell_type": "code",
   "execution_count": null,
   "metadata": {
    "collapsed": true
   },
   "outputs": [],
   "source": []
  }
 ],
 "metadata": {
  "kernelspec": {
   "display_name": "Python 3",
   "language": "python",
   "name": "python3"
  },
  "language_info": {
   "codemirror_mode": {
    "name": "ipython",
    "version": 3
   },
   "file_extension": ".py",
   "mimetype": "text/x-python",
   "name": "python",
   "nbconvert_exporter": "python",
   "pygments_lexer": "ipython3",
   "version": "3.5.0"
  }
 },
 "nbformat": 4,
 "nbformat_minor": 2
}
