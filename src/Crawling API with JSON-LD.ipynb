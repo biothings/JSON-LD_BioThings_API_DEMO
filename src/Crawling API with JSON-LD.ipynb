{
 "cells": [
  {
   "cell_type": "markdown",
   "metadata": {},
   "source": [
    "The actual Jupyter Notebook version could be found [here](https://github.com/biothings/JSON-LD_BioThings_API_DEMO/blob/master/src/Crawling%20API%20with%20JSON-LD.ipynb)"
   ]
  },
  {
   "cell_type": "markdown",
   "metadata": {},
   "source": [
    "## Task Description"
   ]
  },
  {
   "cell_type": "markdown",
   "metadata": {},
   "source": [
    "**Input**: Variant HGVS ID (e.g. chr6:g.26093141G>A)\n",
    "\n",
    "1. Retrieve Entrez Gene ID(s) **set1g** related to HGVS ID(s)\n",
    "2. Retrieve Wikipathways ID(s) **set1p** in which Entrez Gene ID(s) set1g are involved\n",
    "3. Retrieve Other Entrez Gene ID(s) **set2g** which are included in Wikipathways ID(s) set1p\n",
    "4. Retrieve Uniprot ID(s) **set2u** which correspond to Entrez Gene ID(s) set2g\n",
    "5. Retrieve Drug Inchi Key(s) **set1d** which target Uniprot ID(s) set2u\n",
    "\n",
    "**Output**: Available drugs targetting genes/pathways related to the input HGVS ID"
   ]
  },
  {
   "cell_type": "markdown",
   "metadata": {},
   "source": [
    "### Requirements"
   ]
  },
  {
   "cell_type": "markdown",
   "metadata": {},
   "source": [
    "1. Clone the demo repo and run the code under **'src'** folder. **JSON-LD_BioThings_API_DEMO** Repo stores all codes used for the paper. The repo could be found at [github](https://github.com/biothings/JSON-LD_BioThings_API_DEMO). In this demo code, it uses python code **'biothings_helper'**, **'biothings'** and **'jsonld_processor'**. "
   ]
  },
  {
   "cell_type": "markdown",
   "metadata": {},
   "source": [
    "### Input"
   ]
  },
  {
   "cell_type": "code",
   "execution_count": 1,
   "metadata": {
    "collapsed": true
   },
   "outputs": [],
   "source": [
    "# input a list of variants\n",
    "variant_list = ['chr6:g.26093141G>A', 'chr12:g.111351981C>T']"
   ]
  },
  {
   "cell_type": "markdown",
   "metadata": {},
   "source": [
    "### Import biothings library"
   ]
  },
  {
   "cell_type": "code",
   "execution_count": 2,
   "metadata": {
    "collapsed": false
   },
   "outputs": [],
   "source": [
    "# IdListHandler class convert a list of IDs from a given input type to another list of IDs from a given output type\n",
    "from biothings import IdListHandler\n",
    "ih = IdListHandler()\n",
    "# dict2list help convert the dictionary output to list\n",
    "from biothings import dict2list"
   ]
  },
  {
   "cell_type": "markdown",
   "metadata": {},
   "source": [
    "### Step 1: HGVS ID >- Entrez Gene ID"
   ]
  },
  {
   "cell_type": "code",
   "execution_count": 3,
   "metadata": {
    "collapsed": false
   },
   "outputs": [
    {
     "name": "stdout",
     "output_type": "stream",
     "text": [
      "{'chr12:g.111351981C>T': [{'source': 'myvariant.info', 'entrez_gene_id': '4633'}], 'chr6:g.26093141G>A': [{'source': 'myvariant.info', 'entrez_gene_id': '3077'}]}\n"
     ]
    }
   ],
   "source": [
    "gene_result = ih.list_handler(input_id_list=variant_list, \n",
    "                              _input_type='http://identifiers.org/hgvs/', \n",
    "                              _output_type='http://identifiers.org/ncbigene/', \n",
    "                              uri=True)\n",
    "print(gene_result)\n",
    "set1g = dict2list(gene_result)"
   ]
  },
  {
   "cell_type": "markdown",
   "metadata": {
    "collapsed": true
   },
   "source": [
    "### Step 2: Entrez Gene ID >- Wikipathways ID"
   ]
  },
  {
   "cell_type": "code",
   "execution_count": 4,
   "metadata": {
    "collapsed": false
   },
   "outputs": [
    {
     "name": "stdout",
     "output_type": "stream",
     "text": [
      "{'3077': [{'wikipathway_id': 'WP3924', 'source': 'mygene.info'}], '4633': [{'wikipathway_id': ['WP3888', 'WP2406', 'WP383', 'WP289'], 'source': 'mygene.info'}]}\n"
     ]
    }
   ],
   "source": [
    "wikipathway_result = ih.list_handler(input_id_list=set1g, \n",
    "                                     _input_type='http://identifiers.org/ncbigene/', \n",
    "                                     _output_type='http://identifiers.org/wikipathways/', \n",
    "                                     uri=True)\n",
    "print(wikipathway_result)\n",
    "set1p = dict2list(wikipathway_result)"
   ]
  },
  {
   "cell_type": "markdown",
   "metadata": {},
   "source": [
    "### Step 3: Wikipathways ID >- Entrez Gene ID"
   ]
  },
  {
   "cell_type": "code",
   "execution_count": 5,
   "metadata": {
    "collapsed": false
   },
   "outputs": [
    {
     "name": "stdout",
     "output_type": "stream",
     "text": [
      "453\n"
     ]
    }
   ],
   "source": [
    "gene_result2 = ih.list_handler(input_id_list=set1p, \n",
    "                               _input_type='http://identifiers.org/wikipathways/', \n",
    "                               _output_type='http://identifiers.org/ncbigene/', \n",
    "                               uri=True)\n",
    "set2g = dict2list(gene_result2)\n",
    "print(len(set2g))"
   ]
  },
  {
   "cell_type": "markdown",
   "metadata": {},
   "source": [
    "### Step 4: Entrez Gene ID >- Uniprot ID"
   ]
  },
  {
   "cell_type": "code",
   "execution_count": 6,
   "metadata": {
    "collapsed": false
   },
   "outputs": [
    {
     "name": "stdout",
     "output_type": "stream",
     "text": [
      "458\n"
     ]
    }
   ],
   "source": [
    "uniprot_result = ih.list_handler(input_id_list=set2g, \n",
    "                                 _input_type='http://identifiers.org/ncbigene/', \n",
    "                                 _output_type='http://identifiers.org/uniprot/', \n",
    "                                 uri=True)\n",
    "set1u = dict2list(uniprot_result)\n",
    "print(len(set1u))"
   ]
  },
  {
   "cell_type": "markdown",
   "metadata": {},
   "source": [
    "### Step 5: Uniprot ID >- Inchi Key"
   ]
  },
  {
   "cell_type": "code",
   "execution_count": 7,
   "metadata": {
    "collapsed": false
   },
   "outputs": [
    {
     "name": "stdout",
     "output_type": "stream",
     "text": [
      "466\n",
      "['ACPOUJIDANTYHO-UHFFFAOYSA-N', 'AECPTICWHONWNW-UHFFFAOYSA-N', 'AFSDNFLWKVMVRB-UHFFFAOYSA-N', 'AMNKRBRQQAMACZ-UHFFFAOYSA-N', 'APYXQTXFRIDSGE-UHFFFAOYSA-N']\n"
     ]
    }
   ],
   "source": [
    "inchi_result = ih.list_handler(input_id_list=set1u,\n",
    "                              _input_type='http://identifiers.org/uniprot/',\n",
    "                              _output_type='http://identifiers.org/inchikey/',\n",
    "                              uri=True)\n",
    "inchi_list = dict2list(inchi_result)\n",
    "print(len(inchi_list))\n",
    "print(inchi_list[0:5])"
   ]
  },
  {
   "cell_type": "markdown",
   "metadata": {},
   "source": [
    "### Breakdown of list_handler function "
   ]
  },
  {
   "cell_type": "markdown",
   "metadata": {},
   "source": [
    "The following code shows each step involved in list_handler function demonstrated above using entrez gene id-> wikipathway transformation as an example. "
   ]
  },
  {
   "cell_type": "markdown",
   "metadata": {},
   "source": [
    "[Metadata information about BioThings API(config)](https://github.com/biothings/JSON-LD_BioThings_API_DEMO/blob/master/src/config.py)"
   ]
  },
  {
   "cell_type": "markdown",
   "metadata": {},
   "source": [
    "#### Step 1: Specify input and output"
   ]
  },
  {
   "cell_type": "code",
   "execution_count": 8,
   "metadata": {
    "collapsed": true
   },
   "outputs": [],
   "source": [
    "input_value = '3077'\n",
    "input_type='http://identifiers.org/ncbigene/'\n",
    "output_type='http://identifiers.org/wikipathways/'"
   ]
  },
  {
   "cell_type": "markdown",
   "metadata": {},
   "source": [
    "#### Step 2: Iterate through API metadata info, and find corresponding API based on input & output"
   ]
  },
  {
   "cell_type": "code",
   "execution_count": 9,
   "metadata": {
    "collapsed": false
   },
   "outputs": [],
   "source": [
    "from config import AVAILABLE_API_ENDPOINTS\n",
    "from jsonld_processor import flatten_doc\n",
    "from biothings_helper import construct_url, find_id_from_uri, find_value_from_output_type"
   ]
  },
  {
   "cell_type": "code",
   "execution_count": 10,
   "metadata": {
    "collapsed": false
   },
   "outputs": [
    {
     "name": "stdout",
     "output_type": "stream",
     "text": [
      "mygene.info\n"
     ]
    }
   ],
   "source": [
    "# convert to internal input name and output name\n",
    "input_name = find_id_from_uri(input_type)\n",
    "output_name = find_id_from_uri(output_type)\n",
    "# look up api in api metadata info\n",
    "endpoint_list = []\n",
    "for i in range(0, len(AVAILABLE_API_ENDPOINTS)):\n",
    "    if input_name in AVAILABLE_API_ENDPOINTS[i][\"input\"] and output_name in AVAILABLE_API_ENDPOINTS[i][\"output\"]:\n",
    "        endpoint_list.append(i)\n",
    "print(AVAILABLE_API_ENDPOINTS[endpoint_list[0]][\"api\"])"
   ]
  },
  {
   "cell_type": "markdown",
   "metadata": {},
   "source": [
    "#### Step 3: Make API call"
   ]
  },
  {
   "cell_type": "code",
   "execution_count": 11,
   "metadata": {
    "collapsed": true
   },
   "outputs": [],
   "source": [
    "# construct url based on metadata info\n",
    "url = construct_url(endpoint_list[0], input_value, input_name)\n",
    "# make API call\n",
    "import requests\n",
    "doc = requests.get(url).json()\n",
    "#for better display in ipython notebook, we are not printing the whole json doc here\n",
    "#the following code could be used to display the json_doc returned from api call\n",
    "# print(doc)"
   ]
  },
  {
   "cell_type": "markdown",
   "metadata": {},
   "source": [
    "#### Step 4: Transform JSON doc to JSON-LD doc and Nquads format"
   ]
  },
  {
   "cell_type": "code",
   "execution_count": 12,
   "metadata": {
    "collapsed": false
   },
   "outputs": [
    {
     "name": "stdout",
     "output_type": "stream",
     "text": [
      "{'object': {'type': 'literal', 'datatype': 'http://www.w3.org/2001/XMLSchema#string', 'value': 'ENSP00000259699'}, 'subject': {'type': 'blank node', 'value': '_:b0'}, 'predicate': {'type': 'IRI', 'value': 'http://identifiers.org/ensembl.protein/'}}\n"
     ]
    }
   ],
   "source": [
    "# load context file\n",
    "import json\n",
    "json_doc = flatten_doc(doc)\n",
    "context = json.load(open(AVAILABLE_API_ENDPOINTS[endpoint_list[0]][\"jsonld\"]))\n",
    "# construct json-ld doc\n",
    "json_doc.update(context)\n",
    "# transform json-ld doc to nquads format\n",
    "from pyld import jsonld\n",
    "t = jsonld.JsonLdProcessor()\n",
    "nquads = t.parse_nquads(jsonld.to_rdf(json_doc, {'format': 'application/nquads'}))['@default']\n",
    "print(nquads[1])\n",
    "# for better display in ipython notebook, we are not printing the whole nquads doc here\\\n",
    "# the following code could be used to display the whole nquads doc\n",
    "# print(nquads)"
   ]
  },
  {
   "cell_type": "markdown",
   "metadata": {},
   "source": [
    "#### Step 5: Fetch value using URI from Nquads format"
   ]
  },
  {
   "cell_type": "code",
   "execution_count": 13,
   "metadata": {
    "collapsed": false
   },
   "outputs": [
    {
     "name": "stdout",
     "output_type": "stream",
     "text": [
      "['WP3924']\n"
     ]
    }
   ],
   "source": [
    "value_list = []\n",
    "for item in nquads:\n",
    "    if item['predicate']['value'] == output_type:\n",
    "        value_list.append(item['object']['value'])\n",
    "value = list(set(value_list))\n",
    "print(value)"
   ]
  }
 ],
 "metadata": {
  "kernelspec": {
   "display_name": "Python 3",
   "language": "python",
   "name": "python3"
  },
  "language_info": {
   "codemirror_mode": {
    "name": "ipython",
    "version": 3
   },
   "file_extension": ".py",
   "mimetype": "text/x-python",
   "name": "python",
   "nbconvert_exporter": "python",
   "pygments_lexer": "ipython3",
   "version": "3.5.0"
  }
 },
 "nbformat": 4,
 "nbformat_minor": 2
}
