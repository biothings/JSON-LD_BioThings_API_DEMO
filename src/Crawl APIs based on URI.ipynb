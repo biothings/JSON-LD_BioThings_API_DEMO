{
 "cells": [
  {
   "cell_type": "markdown",
   "metadata": {},
   "source": [
    "### import api_crawler"
   ]
  },
  {
   "cell_type": "code",
   "execution_count": 1,
   "metadata": {
    "collapsed": true
   },
   "outputs": [],
   "source": [
    "from api_crawler import uri_query"
   ]
  },
  {
   "cell_type": "markdown",
   "metadata": {},
   "source": [
    "### Given a variant hgvs id, looking for ncbi gene id related to it"
   ]
  },
  {
   "cell_type": "code",
   "execution_count": 2,
   "metadata": {
    "collapsed": false
   },
   "outputs": [
    {
     "name": "stdout",
     "output_type": "stream",
     "text": [
      "1 api(s) could be utilized based on the input_type, output_type you provided: ['myvariant.info']\n",
      "myvariant.info returns the following results based on your query: 5053\n"
     ]
    },
    {
     "data": {
      "text/plain": [
       "[{'myvariant.info': '5053'}]"
      ]
     },
     "execution_count": 2,
     "metadata": {},
     "output_type": "execute_result"
    }
   ],
   "source": [
    "uri_query(input_value='chr12:g.103234255C>T', input_type='http://identifiers.org/hgvs*/', output_type='http://identifiers.org/ncbigene/')"
   ]
  },
  {
   "cell_type": "markdown",
   "metadata": {},
   "source": [
    "### From the ncbi gene we found in privious query, get all wikipathways ids related"
   ]
  },
  {
   "cell_type": "code",
   "execution_count": 3,
   "metadata": {
    "collapsed": false
   },
   "outputs": [
    {
     "name": "stdout",
     "output_type": "stream",
     "text": [
      "1 api(s) could be utilized based on the input_type, output_type you provided: ['mygene.info']\n",
      "mygene.info returns the following results based on your query: ['WP550', 'WP706']\n"
     ]
    },
    {
     "data": {
      "text/plain": [
       "[{'mygene.info': ['WP550', 'WP706']}]"
      ]
     },
     "execution_count": 3,
     "metadata": {},
     "output_type": "execute_result"
    }
   ],
   "source": [
    "uri_query(input_value='5053', input_type='http://identifiers.org/ncbigene/', output_type='http://identifiers.org/wikipathways/')"
   ]
  }
 ],
 "metadata": {
  "kernelspec": {
   "display_name": "Python 3",
   "language": "python",
   "name": "python3"
  },
  "language_info": {
   "codemirror_mode": {
    "name": "ipython",
    "version": 3
   },
   "file_extension": ".py",
   "mimetype": "text/x-python",
   "name": "python",
   "nbconvert_exporter": "python",
   "pygments_lexer": "ipython3",
   "version": "3.5.0"
  }
 },
 "nbformat": 4,
 "nbformat_minor": 2
}
