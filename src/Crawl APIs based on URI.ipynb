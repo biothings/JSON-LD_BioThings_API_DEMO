{
 "cells": [
  {
   "cell_type": "markdown",
   "metadata": {},
   "source": [
    "### Import api_crawler"
   ]
  },
  {
   "cell_type": "markdown",
   "metadata": {},
   "source": [
    "[Code for api_crawler](https://github.com/biothings/JSON-LD_BioThings_API_DEMO/blob/master/src/api_crawler.py)"
   ]
  },
  {
   "cell_type": "code",
   "execution_count": 1,
   "metadata": {
    "collapsed": true
   },
   "outputs": [],
   "source": [
    "from api_crawler import uri_query"
   ]
  },
  {
   "cell_type": "markdown",
   "metadata": {},
   "source": [
    "### Given a variant hgvs id, looking for ncbi gene id related to it"
   ]
  },
  {
   "cell_type": "code",
   "execution_count": 2,
   "metadata": {
    "collapsed": false
   },
   "outputs": [
    {
     "name": "stdout",
     "output_type": "stream",
     "text": [
      "1 api(s) could be utilized based on the input_type, output_type you provided: ['myvariant.info']\n",
      "myvariant.info returns the following results based on your query: 5053\n"
     ]
    },
    {
     "data": {
      "text/plain": [
       "[{'myvariant.info': '5053'}]"
      ]
     },
     "execution_count": 2,
     "metadata": {},
     "output_type": "execute_result"
    }
   ],
   "source": [
    "uri_query(input_value='chr12:g.103234255C>T', input_type='http://identifiers.org/hgvs/', output_type='http://identifiers.org/ncbigene/')"
   ]
  },
  {
   "cell_type": "markdown",
   "metadata": {},
   "source": [
    "### From the ncbi gene we found in previous query, get all wikipathways ids related"
   ]
  },
  {
   "cell_type": "code",
   "execution_count": 3,
   "metadata": {
    "collapsed": false
   },
   "outputs": [
    {
     "name": "stdout",
     "output_type": "stream",
     "text": [
      "1 api(s) could be utilized based on the input_type, output_type you provided: ['mygene.info']\n",
      "mygene.info returns the following results based on your query: ['WP706', 'WP550']\n"
     ]
    },
    {
     "data": {
      "text/plain": [
       "[{'mygene.info': ['WP706', 'WP550']}]"
      ]
     },
     "execution_count": 3,
     "metadata": {},
     "output_type": "execute_result"
    }
   ],
   "source": [
    "uri_query(input_value='5053', input_type='http://identifiers.org/ncbigene/', output_type='http://identifiers.org/wikipathways/')"
   ]
  },
  {
   "cell_type": "markdown",
   "metadata": {},
   "source": [
    "### Breakdown of uri_query function"
   ]
  },
  {
   "cell_type": "markdown",
   "metadata": {},
   "source": [
    "The following code shows each step involved in uri_query function demonstrated above. "
   ]
  },
  {
   "cell_type": "markdown",
   "metadata": {},
   "source": [
    "[Metadata information about BioThings API(config)](https://github.com/biothings/JSON-LD_BioThings_API_DEMO/blob/master/src/config.py)\n",
    "[code for biothings_helper](https://github.com/biothings/JSON-LD_BioThings_API_DEMO/blob/master/src/biothings_helper.py)"
   ]
  },
  {
   "cell_type": "markdown",
   "metadata": {},
   "source": [
    "#### Step 1: Specify input and output"
   ]
  },
  {
   "cell_type": "code",
   "execution_count": 4,
   "metadata": {
    "collapsed": true
   },
   "outputs": [],
   "source": [
    "input_value = '5053'\n",
    "input_type='http://identifiers.org/ncbigene/'\n",
    "output_type='http://identifiers.org/wikipathways/'"
   ]
  },
  {
   "cell_type": "markdown",
   "metadata": {},
   "source": [
    "#### Step 2: Iterate through API metadata info, and find corresponding API based on input & output"
   ]
  },
  {
   "cell_type": "code",
   "execution_count": 5,
   "metadata": {
    "collapsed": true
   },
   "outputs": [],
   "source": [
    "from config import AVAILABLE_API_SOURCES\n",
    "from biothings_helper import find_id_from_uri, find_value_from_output_type, query_ids_from_output_type\n",
    "from api_crawler import api_lookup"
   ]
  },
  {
   "cell_type": "code",
   "execution_count": 6,
   "metadata": {
    "collapsed": false
   },
   "outputs": [
    {
     "name": "stdout",
     "output_type": "stream",
     "text": [
      "[{'type': 'annotate', 'api': 'mygene.info'}]\n"
     ]
    }
   ],
   "source": [
    "# convert to internal input name and output name\n",
    "input_name = find_id_from_uri(input_type)\n",
    "output_name = find_id_from_uri(output_type)\n",
    "# look up api in api metadata info\n",
    "api_results = api_lookup(input_name, output_name)\n",
    "print(api_results)"
   ]
  },
  {
   "cell_type": "markdown",
   "metadata": {},
   "source": [
    "#### Step 3: Make API call"
   ]
  },
  {
   "cell_type": "code",
   "execution_count": 7,
   "metadata": {
    "collapsed": false
   },
   "outputs": [],
   "source": [
    "# construct url based on metadata info\n",
    "url = AVAILABLE_API_SOURCES[api_results[0]['api']]['annotate_syntax'].replace('{{input}}', input_value)\n",
    "# make API call\n",
    "import requests\n",
    "doc = requests.get(url).json()\n",
    "#for better display in ipython notebook, we are not printing the whole json doc here\n",
    "#the following code could be used to display the json_doc returned from api call\n",
    "# print(doc)"
   ]
  },
  {
   "cell_type": "markdown",
   "metadata": {},
   "source": [
    "#### Step 4: Transform JSON doc to JSON-LD doc and Nquads format"
   ]
  },
  {
   "cell_type": "code",
   "execution_count": 9,
   "metadata": {
    "collapsed": false
   },
   "outputs": [
    {
     "name": "stdout",
     "output_type": "stream",
     "text": [
      "{'predicate': {'type': 'IRI', 'value': 'http://identifiers.org/ensembl.protein/'}, 'object': {'type': 'literal', 'value': 'ENSP00000303500', 'datatype': 'http://www.w3.org/2001/XMLSchema#string'}, 'subject': {'type': 'blank node', 'value': '_:b0'}}\n"
     ]
    }
   ],
   "source": [
    "# load context file\n",
    "context = requests.get(AVAILABLE_API_SOURCES[api_results[0]['api']][\"jsonld\"][\"context_file_path\"]).json()\n",
    "# construct json-ld doc\n",
    "doc.update(context)\n",
    "# transform json-ld doc to nquads format\n",
    "from pyld import jsonld\n",
    "t = jsonld.JsonLdProcessor()\n",
    "nquads = t.parse_nquads(jsonld.to_rdf(doc, {'format': 'application/nquads'}))['@default']\n",
    "print(nquads[1])\n",
    "# for better display in ipython notebook, we are not printing the whole nquads doc here\\\n",
    "# the following code could be used to display the whole nquads doc\n",
    "# print(nquads)"
   ]
  },
  {
   "cell_type": "markdown",
   "metadata": {},
   "source": [
    "#### Step 5: Fetch value using URI from Nquads format"
   ]
  },
  {
   "cell_type": "code",
   "execution_count": 10,
   "metadata": {
    "collapsed": false
   },
   "outputs": [
    {
     "name": "stdout",
     "output_type": "stream",
     "text": [
      "['WP706', 'WP550']\n"
     ]
    }
   ],
   "source": [
    "value_list = []\n",
    "for item in nquads:\n",
    "    if item['predicate']['value'] == output_type:\n",
    "        value_list.append(item['object']['value'])\n",
    "value = list(set(value_list))\n",
    "print(value)"
   ]
  }
 ],
 "metadata": {
  "kernelspec": {
   "display_name": "Python 3",
   "language": "python",
   "name": "python3"
  },
  "language_info": {
   "codemirror_mode": {
    "name": "ipython",
    "version": 3
   },
   "file_extension": ".py",
   "mimetype": "text/x-python",
   "name": "python",
   "nbconvert_exporter": "python",
   "pygments_lexer": "ipython3",
   "version": "3.5.0"
  }
 },
 "nbformat": 4,
 "nbformat_minor": 2
}
