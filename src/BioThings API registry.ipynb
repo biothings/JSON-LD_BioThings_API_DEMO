{
 "cells": [
  {
   "cell_type": "markdown",
   "metadata": {},
   "source": [
    "The source file including BioThings API registry could be found [here](https://github.com/biothings/JSON-LD_BioThings_API_DEMO/blob/master/src/config.py)"
   ]
  },
  {
   "cell_type": "code",
   "execution_count": 1,
   "metadata": {
    "collapsed": true
   },
   "outputs": [],
   "source": [
    "from config import AVAILABLE_API_ENDPOINTS"
   ]
  },
  {
   "cell_type": "code",
   "execution_count": 2,
   "metadata": {
    "collapsed": true
   },
   "outputs": [],
   "source": [
    "import pprint\n",
    "pp = pprint.PrettyPrinter(indent=4)"
   ]
  },
  {
   "cell_type": "markdown",
   "metadata": {},
   "source": [
    "**AVAILABLE_API_ENDPOINTS** contains all information about BioThings API registry"
   ]
  },
  {
   "cell_type": "code",
   "execution_count": 3,
   "metadata": {
    "collapsed": false
   },
   "outputs": [
    {
     "name": "stdout",
     "output_type": "stream",
     "text": [
      "[   {   'api': 'mygene.info',\n",
      "        'input': [   'uniprot_id',\n",
      "                     'ensembl_gene_id',\n",
      "                     'hgnc_gene_symbol',\n",
      "                     'wikipathway_id',\n",
      "                     'pubmed_id'],\n",
      "        'jsonld': 'context/mygene_query_context.json',\n",
      "        'output': ['entrez_gene_id'],\n",
      "        'type': 'query',\n",
      "        'url_syntax': 'http://mygene.info/v3/query?q={{input}}&fetch_all=TRUE&fields=_id'},\n",
      "    {   'api': 'mygene.info',\n",
      "        'input': ['entrez_gene_id'],\n",
      "        'jsonld': 'context/mygene_context.json',\n",
      "        'output': [   'uniprot_id',\n",
      "                      'ensembl_gene_id',\n",
      "                      'hgnc_gene_symbol',\n",
      "                      'wikipathway_id',\n",
      "                      'pubmed_id'],\n",
      "        'type': 'get',\n",
      "        'url_syntax': 'http://mygene.info/v3/gene/{{input}}'},\n",
      "    {   'api': 'myvariant.info',\n",
      "        'input': [   'entrez_gene_id',\n",
      "                     'hgnc_gene_symbol',\n",
      "                     'ensembl_gene_id',\n",
      "                     'dbsnp_id',\n",
      "                     'pubmed_id',\n",
      "                     'uniprot_id'],\n",
      "        'jsonld': 'context/myvariant_query_context.json',\n",
      "        'output': ['hgvs_id'],\n",
      "        'type': 'query',\n",
      "        'url_syntax': 'http://myvariant.info/v1/query?q={{input}}&fetch_all=TRUE&fields=_id'},\n",
      "    {   'api': 'myvariant.info',\n",
      "        'input': ['hgvs_id'],\n",
      "        'jsonld': 'context/myvariant_context.json',\n",
      "        'output': [   'entrez_gene_id',\n",
      "                      'hgnc_gene_symbol',\n",
      "                      'ensembl_gene_id',\n",
      "                      'dbsnp_id',\n",
      "                      'pubmed_id',\n",
      "                      'uniprot_id'],\n",
      "        'type': 'get',\n",
      "        'url_syntax': 'http://myvariant.info/v1/variant/{{input}}'},\n",
      "    {   'api': 'mychem.info',\n",
      "        'input': [   'dbsnp_id',\n",
      "                     'pubchem_id',\n",
      "                     'drugbank_id',\n",
      "                     'pubmed_id',\n",
      "                     'hgnc_gene_symbol',\n",
      "                     'uniprot_id',\n",
      "                     'clinicaltrial_id'],\n",
      "        'jsonld': 'context/mychem_query_context.json',\n",
      "        'output': ['inchikey'],\n",
      "        'type': 'query',\n",
      "        'url_syntax': 'http://mychem.info/v1/query?q={{input}}&fetch_all=TRUE&fields=_id'},\n",
      "    {   'api': 'mychem.info',\n",
      "        'input': ['inchikey', 'drugbank_id'],\n",
      "        'jsonld': 'context/mychem_query_context.json',\n",
      "        'output': [   'dbsnp_id',\n",
      "                      'pubchem_id',\n",
      "                      'drugbank_id',\n",
      "                      'pubmed_id',\n",
      "                      'hgnc_gene_symbol',\n",
      "                      'uniprot_id',\n",
      "                      'clinicaltrial_id'],\n",
      "        'type': 'get',\n",
      "        'url_syntax': 'http://mychem.info/v1/drug/{{input}}'}]\n"
     ]
    }
   ],
   "source": [
    "pp.pprint(AVAILABLE_API_ENDPOINTS)"
   ]
  }
 ],
 "metadata": {
  "kernelspec": {
   "display_name": "Python 3",
   "language": "python",
   "name": "python3"
  },
  "language_info": {
   "codemirror_mode": {
    "name": "ipython",
    "version": 3
   },
   "file_extension": ".py",
   "mimetype": "text/x-python",
   "name": "python",
   "nbconvert_exporter": "python",
   "pygments_lexer": "ipython3",
   "version": "3.5.0"
  }
 },
 "nbformat": 4,
 "nbformat_minor": 2
}
