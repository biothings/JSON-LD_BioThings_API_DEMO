{
 "cells": [
  {
   "cell_type": "markdown",
   "metadata": {},
   "source": [
    "The actual Jupyter Notebook could be found [here](https://github.com/biothings/JSON-LD_BioThings_API_DEMO/blob/master/src/Demo%20for%20Data%20Discrepancy%20Check.ipynb)"
   ]
  },
  {
   "cell_type": "markdown",
   "metadata": {},
   "source": [
    "### This code demonstrate how data discrepancy check is done using JSON-LD"
   ]
  },
  {
   "cell_type": "markdown",
   "metadata": {},
   "source": [
    "### Requirements"
   ]
  },
  {
   "cell_type": "markdown",
   "metadata": {},
   "source": [
    "1. Download python package biothings_client. **biothings_client** is an easy-to-use Python wrapper to access any Biothings.api-based backend service, including MyGene.info, MyVariant.info, etc. It could be downloaded at [pypi](https://pypi.python.org/pypi/biothings-client/0.1.1) or installed using **'pip install biothings_client'**. In this code demo, we only use functions in **biothings_client** related to **MyVariant.info**.\n",
    "2. Clone the demo repo and run the code under **'src'** folder. **JSON-LD_BioThings_API_DEMO** Repo stores all codes used for the paper. The repo could be found at [github](https://github.com/biothings/JSON-LD_BioThings_API_DEMO). In this demo code, it uses python code **'jsonld_processor'**. "
   ]
  },
  {
   "cell_type": "markdown",
   "metadata": {},
   "source": [
    "**jsonld_processor** is a collection of json-ld related functions. It could be found at the [repo](https://github.com/biothings/JSON-LD_BioThings_API_DEMO/blob/master/src/jsonld_processor.py). Functions used in this code demo includes **nquads transform** which takes a json-ld doc and transforms it into nquads format. And also **fetch_value_by_uri** which takes an URI, e.g. \"http://identifiers.org/dbsnp/\" which is the URI for rsid, and return all values in the json-ld doc corresponding to the URI."
   ]
  },
  {
   "cell_type": "markdown",
   "metadata": {},
   "source": [
    "The output of this code is all hgvs ids having rsid discrepancy issues. "
   ]
  },
  {
   "cell_type": "code",
   "execution_count": 1,
   "metadata": {
    "collapsed": true
   },
   "outputs": [],
   "source": [
    "from biothings_client import get_client\n",
    "from jsonld_processor import nquads_transform, fetch_value_by_uri, load_context, flatten_doc\n",
    "import csv"
   ]
  },
  {
   "cell_type": "code",
   "execution_count": 2,
   "metadata": {
    "collapsed": true
   },
   "outputs": [],
   "source": [
    "# count the number of test print ids\n",
    "test_print = 0"
   ]
  },
  {
   "cell_type": "code",
   "execution_count": 3,
   "metadata": {
    "collapsed": false
   },
   "outputs": [
    {
     "name": "stdout",
     "output_type": "stream",
     "text": [
      "Fetching 424519520 variant(s) . . .\n",
      "chr15:g.28228629C>A: dbsnp reports rs778045887; dbnsfp reports rs778045887; mutdb reports rs147218966; \n",
      "chr8:g.12043908A>G: dbsnp reports rs201884366; dbnsfp reports rs201884366; mutdb reports rs2409919; \n",
      "50000 docs have been scanned\n",
      "chr11:g.5246838T>A: dbsnp reports rs33996892; clinvar reports rs33996892; dbnsfp reports rs33996892; mutdb reports rs121909829; \n",
      "100000 docs have been scanned\n",
      "150000 docs have been scanned\n",
      "chr10:g.17145142G>C: dbsnp reports rs2228053; dbnsfp reports rs2228053; evs reports rs2228053; mutdb reports rs149812870; \n",
      "chrX:g.12712508G>A: dbsnp reports rs779596855; dbnsfp reports rs779596855; mutdb reports rs148666498; \n",
      "200000 docs have been scanned\n"
     ]
    }
   ],
   "source": [
    "############################################################################\n",
    "# Please note looping through all docs in MyVariant.info would take a long\n",
    "# time. Thus, for demo purpose, we set the limit to the first 200,000 docs.\n",
    "# You could change the value of total_docs to scan more docs. You could find \n",
    "# more hgvs_ids in the output csv file 'rsid_discrepancy_check.csv'.\n",
    "############################################################################\n",
    "total_docs = 200000\n",
    "with open('rsid_discrepancy_check.csv', 'w') as csvfile:\n",
    "    # count the total number of docs scanned\n",
    "    cnt = 0\n",
    "    # json-ld context file for MyVariant.info\n",
    "    context = load_context('myvariant.info')\n",
    "    # write the header for csv file\n",
    "    fieldnames = ['hgvs_id']\n",
    "    writer = csv.DictWriter(csvfile, fieldnames=fieldnames)\n",
    "    writer.writeheader()\n",
    "    # get all docs in MyVariant.info\n",
    "    mv = get_client('variant')\n",
    "    data = mv.query(q='__all__', fetch_all=True)\n",
    "    # loop through each doc, apply jsonld context \n",
    "    for doc in data:\n",
    "        cnt += 1\n",
    "        if cnt % 50000 ==0:\n",
    "            print('{} docs have been scanned'.format(cnt))\n",
    "        # only these sources contain rsid info, so only apply json-ld when one or more these sources appear\n",
    "        if ('dbnsfp' or 'gwassnps' or 'mutdb' or 'clinvar' or 'dbsnp' or 'evs' or 'grasp') in doc:\n",
    "            try:\n",
    "                doc = flatten_doc(doc)\n",
    "                doc.update(context)\n",
    "                nquads_doc = nquads_transform(doc)\n",
    "                rsid = fetch_value_by_uri(nquads_doc, \"http://identifiers.org/dbsnp/\")\n",
    "                if rsid and type(rsid) == list:\n",
    "                    writer.writerow({'hgvs_id': doc['_id']})\n",
    "                    # only print the first 10 docs having rsid discrepancy issue\n",
    "                    rsid_dic = {}\n",
    "                    for _key in ['dbsnp.rsid', 'dbnsfp.rsid', 'clinvar.rsid', 'gwassnps.rsid', 'mutdb.rsid', 'evs.rsid', 'grasp.rsid']:\n",
    "                        if _key in doc:\n",
    "                            rsid_dic[_key.split('.')[0]] = doc[_key]\n",
    "                    print_message = doc['_id'] + ': '\n",
    "                    for k, v in rsid_dic.items():\n",
    "                        print_message += (k + ' reports ' + v + '; ')\n",
    "                    print(print_message)\n",
    "            except:\n",
    "                #print('error id {}'.format(doc['_id']))\n",
    "                continue\n",
    "        else:\n",
    "            continue\n",
    "        if cnt > total_docs:\n",
    "            break"
   ]
  }
 ],
 "metadata": {
  "kernelspec": {
   "display_name": "Python 3",
   "language": "python",
   "name": "python3"
  },
  "language_info": {
   "codemirror_mode": {
    "name": "ipython",
    "version": 3
   },
   "file_extension": ".py",
   "mimetype": "text/x-python",
   "name": "python",
   "nbconvert_exporter": "python",
   "pygments_lexer": "ipython3",
   "version": "3.5.0"
  }
 },
 "nbformat": 4,
 "nbformat_minor": 2
}
