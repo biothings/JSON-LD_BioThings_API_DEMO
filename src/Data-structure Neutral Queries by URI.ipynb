{
 "cells": [
  {
   "cell_type": "markdown",
   "metadata": {},
   "source": [
    "# 1. Making Data-structure Neutral Queries by URI\n"
   ]
  },
  {
   "cell_type": "markdown",
   "metadata": {},
   "source": [
    "##### Use Case Scenario1 : Query for the OMIM ID for a Variant Using myvariant.info"
   ]
  },
  {
   "cell_type": "markdown",
   "metadata": {},
   "source": [
    "#### Approach 1: Using Myvariant.info"
   ]
  },
  {
   "cell_type": "markdown",
   "metadata": {},
   "source": [
    "Users could retrieve the OMIM ID through myvariant.info; however, it requires the user to understand how OMIM ID is embedded in the data structure of MyVariant.info."
   ]
  },
  {
   "cell_type": "code",
   "execution_count": 1,
   "metadata": {
    "collapsed": true
   },
   "outputs": [],
   "source": [
    "# import myvariant python package\n",
    "import myvariant\n",
    "mv = myvariant.MyVariantInfo()"
   ]
  },
  {
   "cell_type": "code",
   "execution_count": 2,
   "metadata": {
    "collapsed": false
   },
   "outputs": [
    {
     "data": {
      "text/plain": [
       "{'_id': 'chr9:g.135781006_135781007del',\n",
       " '_version': 1,\n",
       " 'clinvar': {'rcv': {'conditions': {'identifiers': {'omim': '109800'}}}}}"
      ]
     },
     "execution_count": 2,
     "metadata": {},
     "output_type": "execute_result"
    }
   ],
   "source": [
    "# Fetch info about OMIM ID\n",
    "mv.getvariant('chr9:g.135781006_135781007del', fields='clinvar.rcv.conditions.identifiers.omim')"
   ]
  },
  {
   "cell_type": "markdown",
   "metadata": {},
   "source": [
    "#### Approach 2: Using JSON-LD powered neutral query function"
   ]
  },
  {
   "cell_type": "markdown",
   "metadata": {},
   "source": [
    "By utilizing JSON-LD in making queries, the process would be simplified significantly. Users only need to know the URI for OMIM ID, which is unique for any API. And it saves users significant amount of time in order to figure out the data structure for each API."
   ]
  },
  {
   "cell_type": "code",
   "execution_count": 3,
   "metadata": {
    "collapsed": true
   },
   "outputs": [],
   "source": [
    "'''\n",
    "import get_biothings function which is built utilizing JSON-LD technology\n",
    "This function could be used to make neutral query for all BioThings APIs,\n",
    "e.g MyGene.info, MyVariant.info, Drug and compound API\n",
    "'''\n",
    "from biothings_helper import get_biothings"
   ]
  },
  {
   "cell_type": "code",
   "execution_count": 4,
   "metadata": {
    "collapsed": false
   },
   "outputs": [
    {
     "data": {
      "text/plain": [
       "{'_id': 'chr9:g.135781006_135781007del',\n",
       " '_version': 1,\n",
       " 'clinvar': {'rcv': {'conditions': {'identifiers': {'omim': '109800'}}}}}"
      ]
     },
     "execution_count": 4,
     "metadata": {},
     "output_type": "execute_result"
    }
   ],
   "source": [
    "# Fetch info about OMIM ID using URI for OMIM ID, which is 'http://identifiers.org/omim/'\n",
    "get_biothings(api='myvariant.info',id='chr9:g.135781006_135781007del', fields_uri='http://identifiers.org/omim/')"
   ]
  },
  {
   "cell_type": "markdown",
   "metadata": {},
   "source": [
    "### Breakdown of get_biothings code"
   ]
  },
  {
   "cell_type": "markdown",
   "metadata": {},
   "source": [
    "#### Step1: import JSON-LD context file"
   ]
  },
  {
   "cell_type": "code",
   "execution_count": 1,
   "metadata": {
    "collapsed": true
   },
   "outputs": [],
   "source": [
    "import json\n",
    "context = json.loads(open('context/myvariant_context.json').read())"
   ]
  },
  {
   "cell_type": "markdown",
   "metadata": {},
   "source": [
    "#### Step2: convert uri to field name through JSON-LD context file"
   ]
  },
  {
   "cell_type": "code",
   "execution_count": 4,
   "metadata": {
    "collapsed": false
   },
   "outputs": [
    {
     "name": "stdout",
     "output_type": "stream",
     "text": [
      "clinvar.omim,clinvar.rcv.conditions.identifiers.omim\n"
     ]
    }
   ],
   "source": [
    "fields_uri='http://identifiers.org/omim/'\n",
    "field_name = [_field for _field, _uri in context[\"@context\"].items() if _uri==fields_uri]\n",
    "field_name = \",\".join(field_name)\n",
    "print(field_name)"
   ]
  },
  {
   "cell_type": "markdown",
   "metadata": {},
   "source": [
    "#### Step3: perform API query"
   ]
  },
  {
   "cell_type": "code",
   "execution_count": 5,
   "metadata": {
    "collapsed": false
   },
   "outputs": [
    {
     "data": {
      "text/plain": [
       "{'_id': 'chr9:g.135781006_135781007del',\n",
       " '_version': 1,\n",
       " 'clinvar': {'rcv': {'conditions': {'identifiers': {'omim': '109800'}}}}}"
      ]
     },
     "execution_count": 5,
     "metadata": {},
     "output_type": "execute_result"
    }
   ],
   "source": [
    "from biothings_client import get_client\n",
    "mv = get_client('variant')\n",
    "mv.getvariant('chr9:g.135781006_135781007del', fields=field_name)"
   ]
  }
 ],
 "metadata": {
  "kernelspec": {
   "display_name": "Python 3",
   "language": "python",
   "name": "python3"
  },
  "language_info": {
   "codemirror_mode": {
    "name": "ipython",
    "version": 3
   },
   "file_extension": ".py",
   "mimetype": "text/x-python",
   "name": "python",
   "nbconvert_exporter": "python",
   "pygments_lexer": "ipython3",
   "version": "3.5.0"
  }
 },
 "nbformat": 4,
 "nbformat_minor": 0
}
