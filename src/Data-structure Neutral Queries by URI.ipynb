{
 "cells": [
  {
   "cell_type": "markdown",
   "metadata": {},
   "source": [
    "The actual Jupyter Notebook version could be found [here](https://github.com/biothings/JSON-LD_BioThings_API_DEMO/blob/master/src/Data-structure%20Neutral%20Queries%20by%20URI.ipynb)"
   ]
  },
  {
   "cell_type": "markdown",
   "metadata": {},
   "source": [
    "# 1. Making Data-structure Neutral Queries by URI\n"
   ]
  },
  {
   "cell_type": "markdown",
   "metadata": {},
   "source": [
    "### Requirements"
   ]
  },
  {
   "cell_type": "markdown",
   "metadata": {},
   "source": [
    "1. Download python package biothings_client. **biothings_client** is an easy-to-use Python wrapper to access any Biothings.api-based backend service, including MyGene.info, MyVariant.info, etc. It could be downloaded at [pypi](https://pypi.python.org/pypi/biothings-client/0.1.1) or installed using **'pip install biothings_client'**. In this code demo, we only use functions in **biothings_client** related to **MyVariant.info**.\n",
    "2. Downlaod python package requests. **Requests** is the Python HTTP for Humans. It could be installed using **'pip install requests'**.\n",
    "3. Clone the demo repo and run the code under 'src' folder. **JSON-LD_BioThings_API_DEMO** Repo stores all codes used for the paper. The repo could be found at [github](https://github.com/biothings/JSON-LD_BioThings_API_DEMO). In this demo code, it uses python code **'biothings_helper'**"
   ]
  },
  {
   "cell_type": "markdown",
   "metadata": {},
   "source": [
    "##### Use Case Scenario : Query for the OMIM ID for a Variant Using myvariant.info"
   ]
  },
  {
   "cell_type": "markdown",
   "metadata": {},
   "source": [
    "#### Approach 1: Using Myvariant.info"
   ]
  },
  {
   "cell_type": "markdown",
   "metadata": {},
   "source": [
    "Users could retrieve the OMIM ID through myvariant.info; however, it requires the user to understand how OMIM ID is embedded in the data structure of MyVariant.info."
   ]
  },
  {
   "cell_type": "code",
   "execution_count": 1,
   "metadata": {
    "collapsed": false
   },
   "outputs": [],
   "source": [
    "# import myvariant python package\n",
    "from biothings_client import get_client\n",
    "mv = get_client('variant')"
   ]
  },
  {
   "cell_type": "code",
   "execution_count": 2,
   "metadata": {
    "collapsed": false
   },
   "outputs": [
    {
     "data": {
      "text/plain": [
       "{'_id': 'chr9:g.135781006_135781007del',\n",
       " '_version': 1,\n",
       " 'clinvar': {'rcv': {'conditions': {'identifiers': {'omim': '109800'}}}}}"
      ]
     },
     "execution_count": 2,
     "metadata": {},
     "output_type": "execute_result"
    }
   ],
   "source": [
    "# Fetch info about OMIM ID\n",
    "mv.getvariant('chr9:g.135781006_135781007del', fields='clinvar.rcv.conditions.identifiers.omim')"
   ]
  },
  {
   "cell_type": "markdown",
   "metadata": {},
   "source": [
    "#### Approach 2: Using JSON-LD powered neutral query function"
   ]
  },
  {
   "cell_type": "markdown",
   "metadata": {},
   "source": [
    "By utilizing JSON-LD in making queries, the process would be simplified significantly. Users only need to know the URI for OMIM ID, which is unique for any API. And it saves users significant amount of time in order to figure out the data structure for each API. [Code for biothings_helper](https://github.com/biothings/JSON-LD_BioThings_API_DEMO/blob/master/src/biothings_helper.py)"
   ]
  },
  {
   "cell_type": "code",
   "execution_count": 3,
   "metadata": {
    "collapsed": true
   },
   "outputs": [],
   "source": [
    "'''\n",
    "import get_biothings function which is built utilizing JSON-LD technology\n",
    "This function could be used to make neutral query for all BioThings APIs,\n",
    "e.g MyGene.info, MyVariant.info, Drug and compound API\n",
    "'''\n",
    "from biothings_helper import get_biothings"
   ]
  },
  {
   "cell_type": "code",
   "execution_count": 4,
   "metadata": {
    "collapsed": false
   },
   "outputs": [
    {
     "data": {
      "text/plain": [
       "{'_id': 'chr9:g.135781006_135781007del',\n",
       " '_version': 1,\n",
       " 'clinvar': {'rcv': {'conditions': {'identifiers': {'omim': '109800'}}}}}"
      ]
     },
     "execution_count": 4,
     "metadata": {},
     "output_type": "execute_result"
    }
   ],
   "source": [
    "# Fetch info about OMIM ID using URI for OMIM ID, which is 'http://identifiers.org/omim/'\n",
    "get_biothings(api='myvariant.info',id='chr9:g.135781006_135781007del', fields_uri='http://identifiers.org/omim/')"
   ]
  },
  {
   "cell_type": "markdown",
   "metadata": {},
   "source": [
    "### Breakdown of get_biothings function"
   ]
  },
  {
   "cell_type": "markdown",
   "metadata": {},
   "source": [
    "The following code shows each step involved in get_biothings function demonstrated above. "
   ]
  },
  {
   "cell_type": "markdown",
   "metadata": {},
   "source": [
    "#### Step1: import JSON-LD context file"
   ]
  },
  {
   "cell_type": "markdown",
   "metadata": {},
   "source": [
    "[JSON-LD context file for MyVariant.info](https://myvariant.info/context/context.json)"
   ]
  },
  {
   "cell_type": "code",
   "execution_count": 5,
   "metadata": {
    "collapsed": true
   },
   "outputs": [],
   "source": [
    "import json\n",
    "import requests\n",
    "# url for MyVariant.info JSON-LD context\n",
    "url = \"http://myvariant.info/context/context.json\"\n",
    "# load MyVariant.info JSON-LD context file\n",
    "context = requests.get(url).json()"
   ]
  },
  {
   "cell_type": "markdown",
   "metadata": {},
   "source": [
    "#### Step2: convert uri to field name through JSON-LD context file"
   ]
  },
  {
   "cell_type": "code",
   "execution_count": 6,
   "metadata": {
    "collapsed": false
   },
   "outputs": [
    {
     "name": "stdout",
     "output_type": "stream",
     "text": [
      "clinvar.rcv.conditions.identifiers.omim\n"
     ]
    }
   ],
   "source": [
    "fields_uri='http://identifiers.org/omim/'\n",
    "field_name = [_field for _field, _uri in context[\"@context\"].items() if _uri==fields_uri]\n",
    "field_name = \",\".join(field_name)\n",
    "print(field_name)"
   ]
  },
  {
   "cell_type": "markdown",
   "metadata": {},
   "source": [
    "#### Step3: perform API query"
   ]
  },
  {
   "cell_type": "code",
   "execution_count": 7,
   "metadata": {
    "collapsed": false
   },
   "outputs": [
    {
     "data": {
      "text/plain": [
       "{'_id': 'chr9:g.135781006_135781007del',\n",
       " '_version': 1,\n",
       " 'clinvar': {'rcv': {'conditions': {'identifiers': {'omim': '109800'}}}}}"
      ]
     },
     "execution_count": 7,
     "metadata": {},
     "output_type": "execute_result"
    }
   ],
   "source": [
    "from biothings_client import get_client\n",
    "mv = get_client('variant')\n",
    "mv.getvariant('chr9:g.135781006_135781007del', fields=field_name)"
   ]
  }
 ],
 "metadata": {
  "kernelspec": {
   "display_name": "Python 3",
   "language": "python",
   "name": "python3"
  },
  "language_info": {
   "codemirror_mode": {
    "name": "ipython",
    "version": 3
   },
   "file_extension": ".py",
   "mimetype": "text/x-python",
   "name": "python",
   "nbconvert_exporter": "python",
   "pygments_lexer": "ipython3",
   "version": "3.5.0"
  }
 },
 "nbformat": 4,
 "nbformat_minor": 0
}
