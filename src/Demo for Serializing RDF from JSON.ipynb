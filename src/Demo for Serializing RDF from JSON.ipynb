{
 "cells": [
  {
   "cell_type": "markdown",
   "metadata": {},
   "source": [
    "### Sample JSON-LD document"
   ]
  },
  {
   "cell_type": "code",
   "execution_count": 1,
   "metadata": {
    "collapsed": true
   },
   "outputs": [],
   "source": [
    "doc = {\n",
    "  \"@context\": {\n",
    "    \"symbol\": \"http://identifiers.org/entrez/\",\n",
    "    \"interpro.id\": \"http://identifiers.org/interpro/\",\n",
    "    \"_id\": \"http://identifiers.org/hgnc/\"\n",
    "  },\n",
    "  \"@id\": \"http://mygene.info/v3/gene/1017\",\n",
    "  \"_id\": \"1017\",\n",
    "  \"symbol\": \"CDK2\",\n",
    "  \"interpro.id\": [\"IPR000719\",\"IPR017441\", \"IPR011009\", \"IPR008271\"]\n",
    "}"
   ]
  },
  {
   "cell_type": "markdown",
   "metadata": {},
   "source": [
    "### Import Python library PyLD"
   ]
  },
  {
   "cell_type": "code",
   "execution_count": 2,
   "metadata": {
    "collapsed": true
   },
   "outputs": [],
   "source": [
    "from pyld import jsonld"
   ]
  },
  {
   "cell_type": "markdown",
   "metadata": {},
   "source": [
    "### Serialize JSON-LD Doc to RDF format"
   ]
  },
  {
   "cell_type": "code",
   "execution_count": 3,
   "metadata": {
    "collapsed": false
   },
   "outputs": [
    {
     "name": "stdout",
     "output_type": "stream",
     "text": [
      "<http://mygene.info/v3/gene/1017> <http://identifiers.org/entrez/> \"CDK2\" .\n",
      "<http://mygene.info/v3/gene/1017> <http://identifiers.org/hgnc/> \"1017\" .\n",
      "<http://mygene.info/v3/gene/1017> <http://identifiers.org/interpro/> \"IPR000719\" .\n",
      "<http://mygene.info/v3/gene/1017> <http://identifiers.org/interpro/> \"IPR008271\" .\n",
      "<http://mygene.info/v3/gene/1017> <http://identifiers.org/interpro/> \"IPR011009\" .\n",
      "<http://mygene.info/v3/gene/1017> <http://identifiers.org/interpro/> \"IPR017441\" .\n",
      "\n"
     ]
    }
   ],
   "source": [
    "rdf = jsonld.normalize(doc, {'algorithm': 'URDNA2015', 'format': 'application/nquads'})\n",
    "print(rdf)"
   ]
  }
 ],
 "metadata": {
  "kernelspec": {
   "display_name": "Python 3",
   "language": "python",
   "name": "python3"
  },
  "language_info": {
   "codemirror_mode": {
    "name": "ipython",
    "version": 3
   },
   "file_extension": ".py",
   "mimetype": "text/x-python",
   "name": "python",
   "nbconvert_exporter": "python",
   "pygments_lexer": "ipython3",
   "version": "3.5.0"
  }
 },
 "nbformat": 4,
 "nbformat_minor": 2
}
