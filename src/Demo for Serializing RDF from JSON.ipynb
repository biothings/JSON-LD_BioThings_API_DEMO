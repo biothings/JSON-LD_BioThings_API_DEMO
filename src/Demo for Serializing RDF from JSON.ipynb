{
 "cells": [
  {
   "cell_type": "markdown",
   "metadata": {},
   "source": [
    "### Retrieve JSON-LD document from MyVariant.info"
   ]
  },
  {
   "cell_type": "markdown",
   "metadata": {},
   "source": [
    "### Requirements"
   ]
  },
  {
   "cell_type": "markdown",
   "metadata": {},
   "source": [
    "1. Downlaod python package Requests. **Requests** is the Python HTTP for Humans. It could be installed using **'pip install requests'**.\n",
    "2. Download python package PyLD. **PyLD** is the Python implementation of the JSON-LD API. It could be installed using **'pip install PyLD'**"
   ]
  },
  {
   "cell_type": "code",
   "execution_count": 1,
   "metadata": {
    "collapsed": false
   },
   "outputs": [],
   "source": [
    "import requests\n",
    "url = 'http://myvariant.info/v1/variant/chr6:g.26093141G>A?jsonld=TRUE'\n",
    "json_doc = requests.get(url).json()"
   ]
  },
  {
   "cell_type": "markdown",
   "metadata": {},
   "source": [
    "### Import Python library PyLD"
   ]
  },
  {
   "cell_type": "code",
   "execution_count": 2,
   "metadata": {
    "collapsed": true
   },
   "outputs": [],
   "source": [
    "from pyld import jsonld"
   ]
  },
  {
   "cell_type": "markdown",
   "metadata": {},
   "source": [
    "### Serialize MyVariant.info JSON-LD Doc to RDF format"
   ]
  },
  {
   "cell_type": "code",
   "execution_count": 3,
   "metadata": {
    "collapsed": false
   },
   "outputs": [
    {
     "name": "stdout",
     "output_type": "stream",
     "text": [
      "http://myvariant.info/v1/variant/chr6:g.26093141G>A> <http://identifers.org/clinvar/> \"RCV000000019\" .\n",
      "<http://myvariant.info/v1/variant/chr6:g.26093141G>A> <http://identifers.org/clinvar/> \"RCV000000020\" .\n",
      "<http://myvariant.info/v1/variant/chr6:g.26093141G>A> <http://identifers.org/clinvar/> \"RCV000000021\" .\n",
      "<http://myvariant.info/v1/variant/chr6:g.26093141G>A> <http://identifers.org/clinvar/> \"RCV000000022\" .\n",
      "<http://myvariant.info/v1/variant/chr6:g.26093141G>A> <http://identifers.org/clinvar/> \"RCV000000023\" .\n",
      "<http://myvariant.info/v1/variant/chr6:g.26093141G>A> <http://identifers.org/clinvar/> \"RCV000000024\" .\n",
      "<http://myvariant.info/v1/variant/chr6:g.26093141G>A> <http://identifers.org/clinvar/> \"RCV000000025\" .\n",
      "<http://myvariant.info/v1/variant/chr6:g.26093141G>A> <http://identifers.org/clinvar/> \"RCV000117222\" .\n",
      "<http://myvariant.info/v1/variant/chr6:g.26093141G>A> <http://identifers.org/clinvar/> \"RCV000178096\" .\n",
      "<http://myvariant.info/v1/variant/chr6:g.26093141G>A> <http://identifers.org/clinvar/> \"RCV000210820\" .\n",
      "\n"
     ]
    }
   ],
   "source": [
    "rdf = jsonld.normalize(json_doc, {'algorithm': 'URDNA2015', 'format': 'application/nquads'})\n",
    "# print only the first 1040 charcters of the rdf file for simplicity\n",
    "print(rdf[1:1040])"
   ]
  }
 ],
 "metadata": {
  "kernelspec": {
   "display_name": "Python 3",
   "language": "python",
   "name": "python3"
  },
  "language_info": {
   "codemirror_mode": {
    "name": "ipython",
    "version": 3
   },
   "file_extension": ".py",
   "mimetype": "text/x-python",
   "name": "python",
   "nbconvert_exporter": "python",
   "pygments_lexer": "ipython3",
   "version": "3.5.0"
  }
 },
 "nbformat": 4,
 "nbformat_minor": 2
}
